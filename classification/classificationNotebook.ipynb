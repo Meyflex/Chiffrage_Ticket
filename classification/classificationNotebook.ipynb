{
 "cells": [
  {
   "cell_type": "code",
   "execution_count": 1,
   "metadata": {
    "id": "hNgw9P01AOXs"
   },
   "outputs": [
    {
     "name": "stdout",
     "output_type": "stream",
     "text": [
      "Collecting https://github.com/explosion/spacy-models/releases/download/fr_core_news_sm-3.0.0/fr_core_news_sm-3.0.0.tar.gz\n",
      "  Downloading https://github.com/explosion/spacy-models/releases/download/fr_core_news_sm-3.0.0/fr_core_news_sm-3.0.0.tar.gz (17.2 MB)\n",
      "\u001b[2K     \u001b[90m━━━━━━━━━━━━━━━━━━━━━━━━━━━━━━━━━━━━━━━━\u001b[0m \u001b[32m17.2/17.2 MB\u001b[0m \u001b[31m61.1 MB/s\u001b[0m eta \u001b[36m0:00:00\u001b[0m00:01\u001b[0m00:01\u001b[0m\n",
      "\u001b[?25h  Preparing metadata (setup.py) ... \u001b[?25ldone\n",
      "\u001b[?25hRequirement already satisfied: spacy<3.1.0,>=3.0.0 in /opt/conda/envs/sagemaker-distribution/lib/python3.8/site-packages (from fr-core-news-sm==3.0.0) (3.0.9)\n",
      "Requirement already satisfied: spacy-legacy<3.1.0,>=3.0.5 in /opt/conda/envs/sagemaker-distribution/lib/python3.8/site-packages (from spacy<3.1.0,>=3.0.0->fr-core-news-sm==3.0.0) (3.0.12)\n",
      "Requirement already satisfied: murmurhash<1.1.0,>=0.28.0 in /opt/conda/envs/sagemaker-distribution/lib/python3.8/site-packages (from spacy<3.1.0,>=3.0.0->fr-core-news-sm==3.0.0) (1.0.10)\n",
      "Requirement already satisfied: cymem<2.1.0,>=2.0.2 in /opt/conda/envs/sagemaker-distribution/lib/python3.8/site-packages (from spacy<3.1.0,>=3.0.0->fr-core-news-sm==3.0.0) (2.0.8)\n",
      "Requirement already satisfied: preshed<3.1.0,>=3.0.2 in /opt/conda/envs/sagemaker-distribution/lib/python3.8/site-packages (from spacy<3.1.0,>=3.0.0->fr-core-news-sm==3.0.0) (3.0.9)\n",
      "Requirement already satisfied: thinc<8.1.0,>=8.0.3 in /opt/conda/envs/sagemaker-distribution/lib/python3.8/site-packages (from spacy<3.1.0,>=3.0.0->fr-core-news-sm==3.0.0) (8.0.17)\n",
      "Requirement already satisfied: blis<0.8.0,>=0.4.0 in /opt/conda/envs/sagemaker-distribution/lib/python3.8/site-packages (from spacy<3.1.0,>=3.0.0->fr-core-news-sm==3.0.0) (0.7.11)\n",
      "Requirement already satisfied: wasabi<1.1.0,>=0.8.1 in /opt/conda/envs/sagemaker-distribution/lib/python3.8/site-packages (from spacy<3.1.0,>=3.0.0->fr-core-news-sm==3.0.0) (0.10.1)\n",
      "Requirement already satisfied: srsly<3.0.0,>=2.4.1 in /opt/conda/envs/sagemaker-distribution/lib/python3.8/site-packages (from spacy<3.1.0,>=3.0.0->fr-core-news-sm==3.0.0) (2.4.8)\n",
      "Requirement already satisfied: catalogue<2.1.0,>=2.0.4 in /opt/conda/envs/sagemaker-distribution/lib/python3.8/site-packages (from spacy<3.1.0,>=3.0.0->fr-core-news-sm==3.0.0) (2.0.10)\n",
      "Requirement already satisfied: typer<0.4.0,>=0.3.0 in /opt/conda/envs/sagemaker-distribution/lib/python3.8/site-packages (from spacy<3.1.0,>=3.0.0->fr-core-news-sm==3.0.0) (0.3.2)\n",
      "Requirement already satisfied: pathy>=0.3.5 in /opt/conda/envs/sagemaker-distribution/lib/python3.8/site-packages (from spacy<3.1.0,>=3.0.0->fr-core-news-sm==3.0.0) (0.11.0)\n",
      "Requirement already satisfied: smart-open<7.0.0,>=5.2.1 in /opt/conda/envs/sagemaker-distribution/lib/python3.8/site-packages (from spacy<3.1.0,>=3.0.0->fr-core-news-sm==3.0.0) (6.4.0)\n",
      "Requirement already satisfied: tqdm<5.0.0,>=4.38.0 in /opt/conda/envs/sagemaker-distribution/lib/python3.8/site-packages (from spacy<3.1.0,>=3.0.0->fr-core-news-sm==3.0.0) (4.65.0)\n",
      "Requirement already satisfied: numpy>=1.15.0 in /opt/conda/envs/sagemaker-distribution/lib/python3.8/site-packages (from spacy<3.1.0,>=3.0.0->fr-core-news-sm==3.0.0) (1.24.4)\n",
      "Requirement already satisfied: requests<3.0.0,>=2.13.0 in /opt/conda/envs/sagemaker-distribution/lib/python3.8/site-packages (from spacy<3.1.0,>=3.0.0->fr-core-news-sm==3.0.0) (2.31.0)\n",
      "Requirement already satisfied: pydantic!=1.8,!=1.8.1,<1.9.0,>=1.7.4 in /opt/conda/envs/sagemaker-distribution/lib/python3.8/site-packages (from spacy<3.1.0,>=3.0.0->fr-core-news-sm==3.0.0) (1.8.2)\n",
      "Requirement already satisfied: jinja2 in /opt/conda/envs/sagemaker-distribution/lib/python3.8/site-packages (from spacy<3.1.0,>=3.0.0->fr-core-news-sm==3.0.0) (3.1.2)\n",
      "Requirement already satisfied: setuptools in /opt/conda/envs/sagemaker-distribution/lib/python3.8/site-packages (from spacy<3.1.0,>=3.0.0->fr-core-news-sm==3.0.0) (68.0.0)\n",
      "Requirement already satisfied: packaging>=20.0 in /opt/conda/envs/sagemaker-distribution/lib/python3.8/site-packages (from spacy<3.1.0,>=3.0.0->fr-core-news-sm==3.0.0) (23.1)\n",
      "Requirement already satisfied: pathlib-abc==0.1.1 in /opt/conda/envs/sagemaker-distribution/lib/python3.8/site-packages (from pathy>=0.3.5->spacy<3.1.0,>=3.0.0->fr-core-news-sm==3.0.0) (0.1.1)\n",
      "Requirement already satisfied: typing-extensions>=3.7.4.3 in /opt/conda/envs/sagemaker-distribution/lib/python3.8/site-packages (from pydantic!=1.8,!=1.8.1,<1.9.0,>=1.7.4->spacy<3.1.0,>=3.0.0->fr-core-news-sm==3.0.0) (4.5.0)\n",
      "Requirement already satisfied: charset-normalizer<4,>=2 in /opt/conda/envs/sagemaker-distribution/lib/python3.8/site-packages (from requests<3.0.0,>=2.13.0->spacy<3.1.0,>=3.0.0->fr-core-news-sm==3.0.0) (3.2.0)\n",
      "Requirement already satisfied: idna<4,>=2.5 in /opt/conda/envs/sagemaker-distribution/lib/python3.8/site-packages (from requests<3.0.0,>=2.13.0->spacy<3.1.0,>=3.0.0->fr-core-news-sm==3.0.0) (3.4)\n",
      "Requirement already satisfied: urllib3<3,>=1.21.1 in /opt/conda/envs/sagemaker-distribution/lib/python3.8/site-packages (from requests<3.0.0,>=2.13.0->spacy<3.1.0,>=3.0.0->fr-core-news-sm==3.0.0) (1.26.15)\n",
      "Requirement already satisfied: certifi>=2017.4.17 in /opt/conda/envs/sagemaker-distribution/lib/python3.8/site-packages (from requests<3.0.0,>=2.13.0->spacy<3.1.0,>=3.0.0->fr-core-news-sm==3.0.0) (2023.7.22)\n",
      "Requirement already satisfied: click<7.2.0,>=7.1.1 in /opt/conda/envs/sagemaker-distribution/lib/python3.8/site-packages (from typer<0.4.0,>=0.3.0->spacy<3.1.0,>=3.0.0->fr-core-news-sm==3.0.0) (7.1.2)\n",
      "Requirement already satisfied: MarkupSafe>=2.0 in /opt/conda/envs/sagemaker-distribution/lib/python3.8/site-packages (from jinja2->spacy<3.1.0,>=3.0.0->fr-core-news-sm==3.0.0) (2.1.3)\n",
      "Requirement already satisfied: transformers in /opt/conda/envs/sagemaker-distribution/lib/python3.8/site-packages (4.38.2)\n",
      "Requirement already satisfied: filelock in /opt/conda/envs/sagemaker-distribution/lib/python3.8/site-packages (from transformers) (3.12.2)\n",
      "Requirement already satisfied: huggingface-hub<1.0,>=0.19.3 in /opt/conda/envs/sagemaker-distribution/lib/python3.8/site-packages (from transformers) (0.21.4)\n",
      "Requirement already satisfied: numpy>=1.17 in /opt/conda/envs/sagemaker-distribution/lib/python3.8/site-packages (from transformers) (1.24.4)\n",
      "Requirement already satisfied: packaging>=20.0 in /opt/conda/envs/sagemaker-distribution/lib/python3.8/site-packages (from transformers) (23.1)\n",
      "Requirement already satisfied: pyyaml>=5.1 in /opt/conda/envs/sagemaker-distribution/lib/python3.8/site-packages (from transformers) (6.0)\n",
      "Requirement already satisfied: regex!=2019.12.17 in /opt/conda/envs/sagemaker-distribution/lib/python3.8/site-packages (from transformers) (2023.12.25)\n",
      "Requirement already satisfied: requests in /opt/conda/envs/sagemaker-distribution/lib/python3.8/site-packages (from transformers) (2.31.0)\n",
      "Requirement already satisfied: tokenizers<0.19,>=0.14 in /opt/conda/envs/sagemaker-distribution/lib/python3.8/site-packages (from transformers) (0.15.2)\n",
      "Requirement already satisfied: safetensors>=0.4.1 in /opt/conda/envs/sagemaker-distribution/lib/python3.8/site-packages (from transformers) (0.4.2)\n",
      "Requirement already satisfied: tqdm>=4.27 in /opt/conda/envs/sagemaker-distribution/lib/python3.8/site-packages (from transformers) (4.65.0)\n",
      "Requirement already satisfied: fsspec>=2023.5.0 in /opt/conda/envs/sagemaker-distribution/lib/python3.8/site-packages (from huggingface-hub<1.0,>=0.19.3->transformers) (2024.3.1)\n",
      "Requirement already satisfied: typing-extensions>=3.7.4.3 in /opt/conda/envs/sagemaker-distribution/lib/python3.8/site-packages (from huggingface-hub<1.0,>=0.19.3->transformers) (4.5.0)\n",
      "Requirement already satisfied: charset-normalizer<4,>=2 in /opt/conda/envs/sagemaker-distribution/lib/python3.8/site-packages (from requests->transformers) (3.2.0)\n",
      "Requirement already satisfied: idna<4,>=2.5 in /opt/conda/envs/sagemaker-distribution/lib/python3.8/site-packages (from requests->transformers) (3.4)\n",
      "Requirement already satisfied: urllib3<3,>=1.21.1 in /opt/conda/envs/sagemaker-distribution/lib/python3.8/site-packages (from requests->transformers) (1.26.15)\n",
      "Requirement already satisfied: certifi>=2017.4.17 in /opt/conda/envs/sagemaker-distribution/lib/python3.8/site-packages (from requests->transformers) (2023.7.22)\n",
      "Requirement already satisfied: imblearn in /opt/conda/envs/sagemaker-distribution/lib/python3.8/site-packages (0.0)\n",
      "Requirement already satisfied: imbalanced-learn in /opt/conda/envs/sagemaker-distribution/lib/python3.8/site-packages (from imblearn) (0.12.0)\n",
      "Requirement already satisfied: numpy>=1.17.3 in /opt/conda/envs/sagemaker-distribution/lib/python3.8/site-packages (from imbalanced-learn->imblearn) (1.24.4)\n",
      "Requirement already satisfied: scipy>=1.5.0 in /opt/conda/envs/sagemaker-distribution/lib/python3.8/site-packages (from imbalanced-learn->imblearn) (1.10.1)\n",
      "Requirement already satisfied: scikit-learn>=1.0.2 in /opt/conda/envs/sagemaker-distribution/lib/python3.8/site-packages (from imbalanced-learn->imblearn) (1.3.0)\n",
      "Requirement already satisfied: joblib>=1.1.1 in /opt/conda/envs/sagemaker-distribution/lib/python3.8/site-packages (from imbalanced-learn->imblearn) (1.3.0)\n",
      "Requirement already satisfied: threadpoolctl>=2.0.0 in /opt/conda/envs/sagemaker-distribution/lib/python3.8/site-packages (from imbalanced-learn->imblearn) (3.2.0)\n",
      "Requirement already satisfied: seaborn in /opt/conda/envs/sagemaker-distribution/lib/python3.8/site-packages (0.13.2)\n",
      "Requirement already satisfied: numpy!=1.24.0,>=1.20 in /opt/conda/envs/sagemaker-distribution/lib/python3.8/site-packages (from seaborn) (1.24.4)\n",
      "Requirement already satisfied: pandas>=1.2 in /opt/conda/envs/sagemaker-distribution/lib/python3.8/site-packages (from seaborn) (2.0.3)\n",
      "Requirement already satisfied: matplotlib!=3.6.1,>=3.4 in /opt/conda/envs/sagemaker-distribution/lib/python3.8/site-packages (from seaborn) (3.7.2)\n",
      "Requirement already satisfied: contourpy>=1.0.1 in /opt/conda/envs/sagemaker-distribution/lib/python3.8/site-packages (from matplotlib!=3.6.1,>=3.4->seaborn) (1.1.0)\n",
      "Requirement already satisfied: cycler>=0.10 in /opt/conda/envs/sagemaker-distribution/lib/python3.8/site-packages (from matplotlib!=3.6.1,>=3.4->seaborn) (0.11.0)\n",
      "Requirement already satisfied: fonttools>=4.22.0 in /opt/conda/envs/sagemaker-distribution/lib/python3.8/site-packages (from matplotlib!=3.6.1,>=3.4->seaborn) (4.42.0)\n",
      "Requirement already satisfied: kiwisolver>=1.0.1 in /opt/conda/envs/sagemaker-distribution/lib/python3.8/site-packages (from matplotlib!=3.6.1,>=3.4->seaborn) (1.4.4)\n",
      "Requirement already satisfied: packaging>=20.0 in /opt/conda/envs/sagemaker-distribution/lib/python3.8/site-packages (from matplotlib!=3.6.1,>=3.4->seaborn) (23.1)\n",
      "Requirement already satisfied: pillow>=6.2.0 in /opt/conda/envs/sagemaker-distribution/lib/python3.8/site-packages (from matplotlib!=3.6.1,>=3.4->seaborn) (10.0.0)\n",
      "Requirement already satisfied: pyparsing<3.1,>=2.3.1 in /opt/conda/envs/sagemaker-distribution/lib/python3.8/site-packages (from matplotlib!=3.6.1,>=3.4->seaborn) (3.0.9)\n",
      "Requirement already satisfied: python-dateutil>=2.7 in /opt/conda/envs/sagemaker-distribution/lib/python3.8/site-packages (from matplotlib!=3.6.1,>=3.4->seaborn) (2.8.2)\n",
      "Requirement already satisfied: importlib-resources>=3.2.0 in /opt/conda/envs/sagemaker-distribution/lib/python3.8/site-packages (from matplotlib!=3.6.1,>=3.4->seaborn) (6.0.1)\n",
      "Requirement already satisfied: pytz>=2020.1 in /opt/conda/envs/sagemaker-distribution/lib/python3.8/site-packages (from pandas>=1.2->seaborn) (2023.3)\n",
      "Requirement already satisfied: tzdata>=2022.1 in /opt/conda/envs/sagemaker-distribution/lib/python3.8/site-packages (from pandas>=1.2->seaborn) (2023.3)\n",
      "Requirement already satisfied: zipp>=3.1.0 in /opt/conda/envs/sagemaker-distribution/lib/python3.8/site-packages (from importlib-resources>=3.2.0->matplotlib!=3.6.1,>=3.4->seaborn) (3.16.2)\n",
      "Requirement already satisfied: six>=1.5 in /opt/conda/envs/sagemaker-distribution/lib/python3.8/site-packages (from python-dateutil>=2.7->matplotlib!=3.6.1,>=3.4->seaborn) (1.16.0)\n"
     ]
    }
   ],
   "source": [
    "!pip install https://github.com/explosion/spacy-models/releases/download/fr_core_news_sm-3.0.0/fr_core_news_sm-3.0.0.tar.gz\n",
    "!pip install transformers\n",
    "!pip install imblearn\n",
    "!pip install seaborn"
   ]
  },
  {
   "cell_type": "code",
   "execution_count": 2,
   "metadata": {
    "tags": []
   },
   "outputs": [],
   "source": [
    "import numpy as np\n",
    "import pandas as pd\n",
    "import matplotlib.pyplot as plt\n",
    "from sklearn.model_selection import train_test_split\n",
    "from sklearn.naive_bayes import MultinomialNB\n",
    "\n",
    "from sklearn.feature_extraction.text import CountVectorizer\n",
    "from BertClassifier import BertClassifier\n",
    "from RobertaClassifier import RobertaClassifier\n",
    "from FunctionUtil import *\n",
    "\n",
    "from tqdm import tqdm\n",
    "import os"
   ]
  },
  {
   "cell_type": "code",
   "execution_count": null,
   "metadata": {
    "colab": {
     "base_uri": "https://localhost:8080/"
    },
    "id": "ahTRqnT1D_MG",
    "outputId": "916045e5-9c6d-4e21-fe41-523dd2dac93a"
   },
   "outputs": [],
   "source": []
  },
  {
   "cell_type": "code",
   "execution_count": 3,
   "metadata": {
    "id": "dYAf_4OFF62e"
   },
   "outputs": [],
   "source": [
    "results_list = []"
   ]
  },
  {
   "cell_type": "markdown",
   "metadata": {
    "id": "7kDk8JUUA315"
   },
   "source": [
    "Je dois lire tout dabord la data ainsi que traiter la data pour cree l'entrer et la sortie"
   ]
  },
  {
   "cell_type": "code",
   "execution_count": 4,
   "metadata": {
    "colab": {
     "base_uri": "https://localhost:8080/",
     "height": 550
    },
    "id": "XM2Ei0VGAyd5",
    "outputId": "5aae5d55-393f-4669-d789-8c130a4e991c"
   },
   "outputs": [
    {
     "data": {
      "text/html": [
       "<div>\n",
       "<style scoped>\n",
       "    .dataframe tbody tr th:only-of-type {\n",
       "        vertical-align: middle;\n",
       "    }\n",
       "\n",
       "    .dataframe tbody tr th {\n",
       "        vertical-align: top;\n",
       "    }\n",
       "\n",
       "    .dataframe thead th {\n",
       "        text-align: right;\n",
       "    }\n",
       "</style>\n",
       "<table border=\"1\" class=\"dataframe\">\n",
       "  <thead>\n",
       "    <tr style=\"text-align: right;\">\n",
       "      <th></th>\n",
       "      <th>Clé</th>\n",
       "      <th>Résumé</th>\n",
       "      <th>Projet</th>\n",
       "      <th>Responsable</th>\n",
       "      <th>État</th>\n",
       "      <th>Versions corrigées</th>\n",
       "      <th>Epic Link</th>\n",
       "      <th>Lot de commande</th>\n",
       "      <th>Créateur</th>\n",
       "      <th>Type de ticket</th>\n",
       "      <th>...</th>\n",
       "      <th>Référent Développement</th>\n",
       "      <th>Date de Livraison estimée</th>\n",
       "      <th>Date de Livraison réelle</th>\n",
       "      <th>Référent étude TMA</th>\n",
       "      <th>Chiffrage TMA JH</th>\n",
       "      <th>Versions affectées</th>\n",
       "      <th>Description</th>\n",
       "      <th>Description US</th>\n",
       "      <th>Critères d’acceptation</th>\n",
       "      <th>Résumé du ticket</th>\n",
       "    </tr>\n",
       "  </thead>\n",
       "  <tbody>\n",
       "    <tr>\n",
       "      <th>0</th>\n",
       "      <td>SIG-13999</td>\n",
       "      <td>[OGR] Amélioration de la prise en charge des p...</td>\n",
       "      <td>FP1087 - Sujet metier SIG 2024 S1</td>\n",
       "      <td>Ayoub ELJADID</td>\n",
       "      <td>En étude</td>\n",
       "      <td>SIG V24.5</td>\n",
       "      <td>PE-2117</td>\n",
       "      <td>Non_Défini</td>\n",
       "      <td>Anthony Dupuis</td>\n",
       "      <td>Story</td>\n",
       "      <td>...</td>\n",
       "      <td>Ayoub ELJADID</td>\n",
       "      <td>NaN</td>\n",
       "      <td>NaN</td>\n",
       "      <td>Ayoub ELJADID</td>\n",
       "      <td>NaN</td>\n",
       "      <td>SIG V24.5</td>\n",
       "      <td>NaN</td>\n",
       "      <td>{panel:bgColor=#e3fcef}\\n*Contexte* : \\n\\nAvan...</td>\n",
       "      <td>||*Cas d'utilisation*||\\n|{panel:bgColor=#e3fc...</td>\n",
       "      <td>NaN</td>\n",
       "    </tr>\n",
       "    <tr>\n",
       "      <th>1</th>\n",
       "      <td>SIG-13955</td>\n",
       "      <td>[FP1186 - Plan de remédiation SIG 2024] Suppre...</td>\n",
       "      <td>FP1186 - Petites corrections de vulnérabilités...</td>\n",
       "      <td>Ali Benhaddou</td>\n",
       "      <td>En étude</td>\n",
       "      <td>SIG V24.5</td>\n",
       "      <td>PE-2063</td>\n",
       "      <td>Non_Défini</td>\n",
       "      <td>Ali Benhaddou</td>\n",
       "      <td>Story</td>\n",
       "      <td>...</td>\n",
       "      <td>Paul-Antoine SALVETTI</td>\n",
       "      <td>NaN</td>\n",
       "      <td>NaN</td>\n",
       "      <td>Jean-Michel FORHAN</td>\n",
       "      <td>NaN</td>\n",
       "      <td>SIG V24.5</td>\n",
       "      <td>NaN</td>\n",
       "      <td>{panel:bgColor=#e3fcef}\\n*Contexte* : Dans le ...</td>\n",
       "      <td>||*Cas d'utilisation*||\\n|{panel:bgColor=#e3fc...</td>\n",
       "      <td>NaN</td>\n",
       "    </tr>\n",
       "    <tr>\n",
       "      <th>2</th>\n",
       "      <td>SIG-13952</td>\n",
       "      <td>[FP1186 - Plan de remédiation SIG 2024] [Etude...</td>\n",
       "      <td>FP1186 - Petites corrections de vulnérabilités...</td>\n",
       "      <td>Ali Benhaddou</td>\n",
       "      <td>En étude</td>\n",
       "      <td>SIG V24.5</td>\n",
       "      <td>PE-2063</td>\n",
       "      <td>Non_Défini</td>\n",
       "      <td>Ali Benhaddou</td>\n",
       "      <td>Etude</td>\n",
       "      <td>...</td>\n",
       "      <td>Paul-Antoine SALVETTI</td>\n",
       "      <td>NaN</td>\n",
       "      <td>NaN</td>\n",
       "      <td>Paul-Antoine SALVETTI</td>\n",
       "      <td>NaN</td>\n",
       "      <td>SIG V24.5</td>\n",
       "      <td>NaN</td>\n",
       "      <td>{panel:bgColor=#e3fcef}\\n*Contexte* : Dans le ...</td>\n",
       "      <td>||*Cas d'utilisation*||\\n|{panel:bgColor=#e3fc...</td>\n",
       "      <td>NaN</td>\n",
       "    </tr>\n",
       "    <tr>\n",
       "      <th>3</th>\n",
       "      <td>SIG-13949</td>\n",
       "      <td>[FP1186 - Plan de remédiation SIG 2024] Modifi...</td>\n",
       "      <td>FP1186 - Petites corrections de vulnérabilités...</td>\n",
       "      <td>Ali Benhaddou</td>\n",
       "      <td>En étude</td>\n",
       "      <td>SIG V24.5</td>\n",
       "      <td>PE-2063</td>\n",
       "      <td>Non_Défini</td>\n",
       "      <td>Ali Benhaddou</td>\n",
       "      <td>Story</td>\n",
       "      <td>...</td>\n",
       "      <td>Paul-Antoine SALVETTI</td>\n",
       "      <td>NaN</td>\n",
       "      <td>NaN</td>\n",
       "      <td>Jean-Michel FORHAN</td>\n",
       "      <td>NaN</td>\n",
       "      <td>SIG V24.5</td>\n",
       "      <td>NaN</td>\n",
       "      <td>{panel:bgColor=#e3fcef}\\n*Contexte* : Dans le ...</td>\n",
       "      <td>||*Cas d'utilisation*||\\n|{panel:bgColor=#e3fc...</td>\n",
       "      <td>NaN</td>\n",
       "    </tr>\n",
       "    <tr>\n",
       "      <th>4</th>\n",
       "      <td>SIG-13948</td>\n",
       "      <td>FP-968 - Décommissionnement des appels sortant...</td>\n",
       "      <td>FE968 - Process recouvrement clients particuli...</td>\n",
       "      <td>Gildas MOEVI</td>\n",
       "      <td>En étude</td>\n",
       "      <td>SIG V24.5</td>\n",
       "      <td>PE-2071</td>\n",
       "      <td>Non_Défini</td>\n",
       "      <td>Gildas MOEVI</td>\n",
       "      <td>Story</td>\n",
       "      <td>...</td>\n",
       "      <td>NaN</td>\n",
       "      <td>NaN</td>\n",
       "      <td>NaN</td>\n",
       "      <td>Nassima BENGUERNANE</td>\n",
       "      <td>1</td>\n",
       "      <td>SIG V24.5</td>\n",
       "      <td>NaN</td>\n",
       "      <td>{panel:bgColor=#e3fcef}\\n*Contexte* : \\n\\nLe c...</td>\n",
       "      <td>||*Cas d'utilisation*||\\n|{panel:bgColor=#e3fc...</td>\n",
       "      <td>*Contexte*\\r\\nLors du processus de recouvremen...</td>\n",
       "    </tr>\n",
       "  </tbody>\n",
       "</table>\n",
       "<p>5 rows × 22 columns</p>\n",
       "</div>"
      ],
      "text/plain": [
       "         Clé                                             Résumé  \\\n",
       "0  SIG-13999  [OGR] Amélioration de la prise en charge des p...   \n",
       "1  SIG-13955  [FP1186 - Plan de remédiation SIG 2024] Suppre...   \n",
       "2  SIG-13952  [FP1186 - Plan de remédiation SIG 2024] [Etude...   \n",
       "3  SIG-13949  [FP1186 - Plan de remédiation SIG 2024] Modifi...   \n",
       "4  SIG-13948  FP-968 - Décommissionnement des appels sortant...   \n",
       "\n",
       "                                              Projet    Responsable      État  \\\n",
       "0                  FP1087 - Sujet metier SIG 2024 S1  Ayoub ELJADID  En étude   \n",
       "1  FP1186 - Petites corrections de vulnérabilités...  Ali Benhaddou  En étude   \n",
       "2  FP1186 - Petites corrections de vulnérabilités...  Ali Benhaddou  En étude   \n",
       "3  FP1186 - Petites corrections de vulnérabilités...  Ali Benhaddou  En étude   \n",
       "4  FE968 - Process recouvrement clients particuli...   Gildas MOEVI  En étude   \n",
       "\n",
       "  Versions corrigées Epic Link Lot de commande        Créateur Type de ticket  \\\n",
       "0          SIG V24.5   PE-2117      Non_Défini  Anthony Dupuis          Story   \n",
       "1          SIG V24.5   PE-2063      Non_Défini   Ali Benhaddou          Story   \n",
       "2          SIG V24.5   PE-2063      Non_Défini   Ali Benhaddou          Etude   \n",
       "3          SIG V24.5   PE-2063      Non_Défini   Ali Benhaddou          Story   \n",
       "4          SIG V24.5   PE-2071      Non_Défini    Gildas MOEVI          Story   \n",
       "\n",
       "   ... Référent Développement Date de Livraison estimée  \\\n",
       "0  ...          Ayoub ELJADID                       NaN   \n",
       "1  ...  Paul-Antoine SALVETTI                       NaN   \n",
       "2  ...  Paul-Antoine SALVETTI                       NaN   \n",
       "3  ...  Paul-Antoine SALVETTI                       NaN   \n",
       "4  ...                    NaN                       NaN   \n",
       "\n",
       "  Date de Livraison réelle     Référent étude TMA Chiffrage TMA JH  \\\n",
       "0                      NaN          Ayoub ELJADID              NaN   \n",
       "1                      NaN     Jean-Michel FORHAN              NaN   \n",
       "2                      NaN  Paul-Antoine SALVETTI              NaN   \n",
       "3                      NaN     Jean-Michel FORHAN              NaN   \n",
       "4                      NaN    Nassima BENGUERNANE                1   \n",
       "\n",
       "  Versions affectées Description  \\\n",
       "0          SIG V24.5         NaN   \n",
       "1          SIG V24.5         NaN   \n",
       "2          SIG V24.5         NaN   \n",
       "3          SIG V24.5         NaN   \n",
       "4          SIG V24.5         NaN   \n",
       "\n",
       "                                      Description US  \\\n",
       "0  {panel:bgColor=#e3fcef}\\n*Contexte* : \\n\\nAvan...   \n",
       "1  {panel:bgColor=#e3fcef}\\n*Contexte* : Dans le ...   \n",
       "2  {panel:bgColor=#e3fcef}\\n*Contexte* : Dans le ...   \n",
       "3  {panel:bgColor=#e3fcef}\\n*Contexte* : Dans le ...   \n",
       "4  {panel:bgColor=#e3fcef}\\n*Contexte* : \\n\\nLe c...   \n",
       "\n",
       "                              Critères d’acceptation  \\\n",
       "0  ||*Cas d'utilisation*||\\n|{panel:bgColor=#e3fc...   \n",
       "1  ||*Cas d'utilisation*||\\n|{panel:bgColor=#e3fc...   \n",
       "2  ||*Cas d'utilisation*||\\n|{panel:bgColor=#e3fc...   \n",
       "3  ||*Cas d'utilisation*||\\n|{panel:bgColor=#e3fc...   \n",
       "4  ||*Cas d'utilisation*||\\n|{panel:bgColor=#e3fc...   \n",
       "\n",
       "                                    Résumé du ticket  \n",
       "0                                                NaN  \n",
       "1                                                NaN  \n",
       "2                                                NaN  \n",
       "3                                                NaN  \n",
       "4  *Contexte*\\r\\nLors du processus de recouvremen...  \n",
       "\n",
       "[5 rows x 22 columns]"
      ]
     },
     "execution_count": 4,
     "metadata": {},
     "output_type": "execute_result"
    }
   ],
   "source": [
    "dataset = pd.read_csv(\"dataset.csv\")\n",
    "dataset.head()"
   ]
  },
  {
   "cell_type": "code",
   "execution_count": 5,
   "metadata": {
    "id": "i2qJPxvsBBQq"
   },
   "outputs": [],
   "source": [
    "def preprocess_dataset(dataset):\n",
    "    # Suppression des lignes avec des valeurs NaN dans 'Chiffrage TMA JH'\n",
    "    dataset_filtered = dataset.dropna(subset=['Chiffrage TMA JH'])\n",
    "\n",
    "    # Combinaison des données souhaitées dans une nouvelle colonne 'entry'\n",
    "    dataset_filtered['entry'] = dataset_filtered['Projet'] + \" \" + dataset_filtered['Critères d’acceptation'] + \" \" + dataset_filtered['Description US']\n",
    "\n",
    "    # Catégorisation du chiffrage\n",
    "    def categorize_chiffrage(value):\n",
    "        if value <= 3:\n",
    "            return 'Petit'\n",
    "        elif value <= 8:\n",
    "            return 'Moyen'\n",
    "        else:\n",
    "            return 'Long'\n",
    "\n",
    "    # Remplacement des virgules par des points et conversion en float\n",
    "    dataset_filtered['Chiffrage TMA JH'] = dataset_filtered['Chiffrage TMA JH'].str.replace(',', '.').astype(float)\n",
    "\n",
    "    # Application de la catégorisation\n",
    "    dataset_filtered['Chiffrage Catégorie'] = dataset_filtered['Chiffrage TMA JH'].apply(categorize_chiffrage)\n",
    "\n",
    "\n",
    "    return dataset_filtered[['entry', 'Chiffrage Catégorie']]"
   ]
  },
  {
   "cell_type": "code",
   "execution_count": 6,
   "metadata": {
    "colab": {
     "base_uri": "https://localhost:8080/",
     "height": 538
    },
    "id": "8MS9LF0-CHDK",
    "outputId": "55402abb-a354-49b3-d2bd-974937d5253a"
   },
   "outputs": [
    {
     "name": "stderr",
     "output_type": "stream",
     "text": [
      "/tmp/ipykernel_1265/1465547059.py:6: SettingWithCopyWarning: \n",
      "A value is trying to be set on a copy of a slice from a DataFrame.\n",
      "Try using .loc[row_indexer,col_indexer] = value instead\n",
      "\n",
      "See the caveats in the documentation: https://pandas.pydata.org/pandas-docs/stable/user_guide/indexing.html#returning-a-view-versus-a-copy\n",
      "  dataset_filtered['entry'] = dataset_filtered['Projet'] + \" \" + dataset_filtered['Critères d’acceptation'] + \" \" + dataset_filtered['Description US']\n",
      "/tmp/ipykernel_1265/1465547059.py:18: SettingWithCopyWarning: \n",
      "A value is trying to be set on a copy of a slice from a DataFrame.\n",
      "Try using .loc[row_indexer,col_indexer] = value instead\n",
      "\n",
      "See the caveats in the documentation: https://pandas.pydata.org/pandas-docs/stable/user_guide/indexing.html#returning-a-view-versus-a-copy\n",
      "  dataset_filtered['Chiffrage TMA JH'] = dataset_filtered['Chiffrage TMA JH'].str.replace(',', '.').astype(float)\n",
      "/tmp/ipykernel_1265/1465547059.py:21: SettingWithCopyWarning: \n",
      "A value is trying to be set on a copy of a slice from a DataFrame.\n",
      "Try using .loc[row_indexer,col_indexer] = value instead\n",
      "\n",
      "See the caveats in the documentation: https://pandas.pydata.org/pandas-docs/stable/user_guide/indexing.html#returning-a-view-versus-a-copy\n",
      "  dataset_filtered['Chiffrage Catégorie'] = dataset_filtered['Chiffrage TMA JH'].apply(categorize_chiffrage)\n"
     ]
    },
    {
     "data": {
      "text/html": [
       "<div>\n",
       "<style scoped>\n",
       "    .dataframe tbody tr th:only-of-type {\n",
       "        vertical-align: middle;\n",
       "    }\n",
       "\n",
       "    .dataframe tbody tr th {\n",
       "        vertical-align: top;\n",
       "    }\n",
       "\n",
       "    .dataframe thead th {\n",
       "        text-align: right;\n",
       "    }\n",
       "</style>\n",
       "<table border=\"1\" class=\"dataframe\">\n",
       "  <thead>\n",
       "    <tr style=\"text-align: right;\">\n",
       "      <th></th>\n",
       "      <th>entry</th>\n",
       "      <th>Chiffrage Catégorie</th>\n",
       "    </tr>\n",
       "  </thead>\n",
       "  <tbody>\n",
       "    <tr>\n",
       "      <th>4</th>\n",
       "      <td>FE968 - Process recouvrement clients particuli...</td>\n",
       "      <td>Petit</td>\n",
       "    </tr>\n",
       "    <tr>\n",
       "      <th>14</th>\n",
       "      <td>FP1085 - Petits sujets techniques SIG S1 2024 ...</td>\n",
       "      <td>Petit</td>\n",
       "    </tr>\n",
       "    <tr>\n",
       "      <th>15</th>\n",
       "      <td>FP1085 - Petits sujets techniques SIG S1 2024 ...</td>\n",
       "      <td>Moyen</td>\n",
       "    </tr>\n",
       "    <tr>\n",
       "      <th>17</th>\n",
       "      <td>FE1000 - Archivage/suppression des données cli...</td>\n",
       "      <td>Moyen</td>\n",
       "    </tr>\n",
       "    <tr>\n",
       "      <th>18</th>\n",
       "      <td>FP1054 - Evolutions iR C24 ||*Cas d'utilisatio...</td>\n",
       "      <td>Long</td>\n",
       "    </tr>\n",
       "  </tbody>\n",
       "</table>\n",
       "</div>"
      ],
      "text/plain": [
       "                                                entry Chiffrage Catégorie\n",
       "4   FE968 - Process recouvrement clients particuli...               Petit\n",
       "14  FP1085 - Petits sujets techniques SIG S1 2024 ...               Petit\n",
       "15  FP1085 - Petits sujets techniques SIG S1 2024 ...               Moyen\n",
       "17  FE1000 - Archivage/suppression des données cli...               Moyen\n",
       "18  FP1054 - Evolutions iR C24 ||*Cas d'utilisatio...                Long"
      ]
     },
     "execution_count": 6,
     "metadata": {},
     "output_type": "execute_result"
    }
   ],
   "source": [
    "dataset_processed = preprocess_dataset(dataset)\n",
    "dataset_processed.head()"
   ]
  },
  {
   "cell_type": "code",
   "execution_count": 7,
   "metadata": {
    "colab": {
     "base_uri": "https://localhost:8080/",
     "height": 430
    },
    "id": "raCYf714ClkE",
    "outputId": "f6068f82-8dea-483a-bbd6-ac82fd7eb346"
   },
   "outputs": [
    {
     "data": {
      "image/png": "[encoded data removed]",
      "text/plain": [
       "<Figure size 640x480 with 1 Axes>"
      ]
     },
     "metadata": {},
     "output_type": "display_data"
    }
   ],
   "source": [
    "# @title Chiffrage Catégorie\n",
    "\n",
    "from matplotlib import pyplot as plt\n",
    "import seaborn as sns\n",
    "dataset_processed.groupby('Chiffrage Catégorie').size().plot(kind='barh', color=sns.palettes.mpl_palette('Dark2'))\n",
    "plt.gca().spines[['top', 'right',]].set_visible(False)"
   ]
  },
  {
   "cell_type": "markdown",
   "metadata": {
    "id": "CyRluHpXDxMY"
   },
   "source": [
    "ici on traite la data afin de  recuperer just les informations importantes : par exemple suprimer les |{panel:bgColor=#e3fcef} dans le premier entry\n"
   ]
  },
  {
   "cell_type": "code",
   "execution_count": 8,
   "metadata": {
    "id": "6AZOprXpD596"
   },
   "outputs": [],
   "source": [
    "import spacy\n",
    "from spacy.tokenizer import Tokenizer\n",
    "\n",
    "nlp = spacy.load(\"fr_core_news_sm\")\n",
    "nlp.tokenizer = Tokenizer(nlp.vocab)"
   ]
  },
  {
   "cell_type": "code",
   "execution_count": 9,
   "metadata": {
    "id": "CU47T5toCJxM"
   },
   "outputs": [],
   "source": [
    "documents = []\n",
    "import multiprocessing\n",
    "\n",
    "max_processes = multiprocessing.cpu_count()\n",
    "\n",
    "for doc in nlp.pipe([str(r) for r in dataset_processed['entry']] , n_process=max_processes-1, batch_size=1000):\n",
    "    documents.append(' '.join([tok.lemma_ for tok in doc if not tok.is_stop and tok.is_alpha]))"
   ]
  },
  {
   "cell_type": "code",
   "execution_count": 10,
   "metadata": {
    "id": "froLZcAjC1Ru"
   },
   "outputs": [],
   "source": [
    "cv = CountVectorizer(max_features = 1500)\n",
    "x_Entry = cv.fit_transform(documents).toarray()\n",
    "y_Output = dataset_processed[\"Chiffrage Catégorie\"]\n"
   ]
  },
  {
   "cell_type": "code",
   "execution_count": 11,
   "metadata": {
    "id": "1Io2GZDqFF10"
   },
   "outputs": [],
   "source": [
    "train_texts, test_texts, train_labels, test_labels = train_test_split(x_Entry, y_Output, test_size=0.3)\n"
   ]
  },
  {
   "cell_type": "code",
   "execution_count": 12,
   "metadata": {
    "colab": {
     "base_uri": "https://localhost:8080/",
     "height": 734
    },
    "id": "zVFrJgUwFVJz",
    "outputId": "807653e3-afd4-4074-c0ef-f915ef6968f3"
   },
   "outputs": [
    {
     "data": {
      "image/png": "[encoded data removed]",
      "text/plain": [
       "<Figure size 640x480 with 2 Axes>"
      ]
     },
     "metadata": {},
     "output_type": "display_data"
    },
    {
     "name": "stdout",
     "output_type": "stream",
     "text": [
      "Precision per class:\n",
      " [0.41666667 0.38666667 0.58713693]\n",
      "Recall per class:\n",
      " [0.21276596 0.18831169 0.84730539]\n",
      "F1 Score per class:\n",
      " [0.28169014 0.25327511 0.69362745]\n",
      "Weighted F1 Score: 0.4934725680426597\n"
     ]
    }
   ],
   "source": [
    "classifier = MultinomialNB(alpha=0.1)\n",
    "classifier.fit(train_texts, train_labels)\n",
    "y_pred = classifier.predict(test_texts)\n",
    "metrics(test_labels, y_pred,'MultinomialNB Classic',results_list)"
   ]
  },
  {
   "cell_type": "code",
   "execution_count": 13,
   "metadata": {
    "id": "h3CSdSKyF8t3",
    "tags": []
   },
   "outputs": [
    {
     "data": {
      "image/png": "[encoded data removed]",
      "text/plain": [
       "<Figure size 640x480 with 2 Axes>"
      ]
     },
     "metadata": {},
     "output_type": "display_data"
    },
    {
     "name": "stdout",
     "output_type": "stream",
     "text": [
      "Precision per class:\n",
      " [0.375      0.46938776 0.3633218 ]\n",
      "Recall per class:\n",
      " [0.25899281 0.14649682 0.76086957]\n",
      "F1 Score per class:\n",
      " [0.30638298 0.22330097 0.49180328]\n",
      "Weighted F1 Score: 0.3352864952275439\n"
     ]
    }
   ],
   "source": [
    "x_Review_undersampled , y_Votes_undersampled  = undersample_data(x_Entry, y_Output)\n",
    "train_texts, test_texts, train_labels, test_labels = train_test_split(x_Review_undersampled, y_Votes_undersampled, test_size=0.3)\n",
    "classifier = MultinomialNB(alpha=0.1)\n",
    "classifier.fit(train_texts, train_labels)\n",
    "y_pred = classifier.predict(test_texts)\n",
    "metrics(test_labels, y_pred,'MultinomialNB Undersampled',results_list)\n"
   ]
  },
  {
   "cell_type": "code",
   "execution_count": 14,
   "metadata": {
    "tags": []
   },
   "outputs": [
    {
     "data": {
      "image/png": "[encoded data removed]",
      "text/plain": [
       "<Figure size 640x480 with 2 Axes>"
      ]
     },
     "metadata": {},
     "output_type": "display_data"
    },
    {
     "name": "stdout",
     "output_type": "stream",
     "text": [
      "Precision per class:\n",
      " [0.68711656 0.74482759 0.38653001]\n",
      "Recall per class:\n",
      " [0.32653061 0.31395349 0.86842105]\n",
      "F1 Score per class:\n",
      " [0.44268775 0.44171779 0.53495441]\n",
      "Weighted F1 Score: 0.4706548509548229\n"
     ]
    }
   ],
   "source": [
    "x_Review_oversampled , y_Votes_oversampled   = oversample_data(x_Entry, y_Output)\n",
    "train_texts, test_texts, train_labels, test_labels = train_test_split(x_Review_oversampled, y_Votes_oversampled, test_size=0.3)\n",
    "\n",
    "classifier = MultinomialNB(alpha=0.1)\n",
    "classifier.fit(train_texts, train_labels)\n",
    "y_pred = classifier.predict(test_texts)\n",
    "\n",
    "metrics(test_labels, y_pred,'MultinomialNB Oversampled',results_list )"
   ]
  },
  {
   "cell_type": "code",
   "execution_count": 15,
   "metadata": {
    "tags": []
   },
   "outputs": [
    {
     "name": "stdout",
     "output_type": "stream",
     "text": [
      "GPU: Tesla T4\n"
     ]
    }
   ],
   "source": [
    "import torch\n",
    "def convert_to_numeric_categories(categories):\n",
    "    numeric_labels = []\n",
    "    for label in categories:\n",
    "        if label == 'Petit':\n",
    "            numeric_labels.append(0)\n",
    "        elif label == 'Moyen':\n",
    "            numeric_labels.append(1)\n",
    "        elif label == 'Long':\n",
    "            numeric_labels.append(2)\n",
    "    return numeric_labels\n",
    "\n",
    "entry =[str(i) for i in dataset_processed[\"entry\"]]\n",
    "output =convert_to_numeric_categories(dataset_processed[\"Chiffrage Catégorie\"])\n",
    "train_texts, test_texts, train_labels, test_labels = train_test_split(entry, output, test_size=0.3)\n",
    "if torch.cuda.is_available():\n",
    "    device = torch.device(\"cuda\")\n",
    "    print(f'GPU: {torch.cuda.get_device_name(0)}')\n",
    "else:\n",
    "    device = torch.device(\"cpu\")\n",
    "    print('GPU not available, using CPU instead.')\n"
   ]
  },
  {
   "cell_type": "code",
   "execution_count": 16,
   "metadata": {
    "tags": []
   },
   "outputs": [
    {
     "name": "stderr",
     "output_type": "stream",
     "text": [
      "Some weights of BertForSequenceClassification were not initialized from the model checkpoint at bert-base-uncased and are newly initialized: ['classifier.bias', 'classifier.weight']\n",
      "You should probably TRAIN this model on a down-stream task to be able to use it for predictions and inference.\n",
      "Epoch 1/3: 100%|██████████| 92/92 [02:00<00:00,  1.31s/it]\n"
     ]
    },
    {
     "name": "stdout",
     "output_type": "stream",
     "text": [
      "Training Loss: 1.0382127023261527\n"
     ]
    },
    {
     "name": "stderr",
     "output_type": "stream",
     "text": [
      "Epoch 2/3: 100%|██████████| 92/92 [02:02<00:00,  1.33s/it]\n"
     ]
    },
    {
     "name": "stdout",
     "output_type": "stream",
     "text": [
      "Training Loss: 1.0337847568418668\n"
     ]
    },
    {
     "name": "stderr",
     "output_type": "stream",
     "text": [
      "Epoch 3/3: 100%|██████████| 92/92 [02:02<00:00,  1.33s/it]\n"
     ]
    },
    {
     "name": "stdout",
     "output_type": "stream",
     "text": [
      "Training Loss: 1.026325396221617\n",
      "Model saved successfully.\n"
     ]
    }
   ],
   "source": [
    "os.environ['CUDA_LAUNCH_BLOCKING'] = \"1\"\n",
    "classifier_bert = BertClassifier('./models/bert_model.pth')\n",
    "classifier_bert.train(train_texts, train_labels)"
   ]
  },
  {
   "cell_type": "code",
   "execution_count": 17,
   "metadata": {},
   "outputs": [],
   "source": [
    "all_labels, all_predictions = classifier_bert.evaluate(test_texts, test_labels)\n",
    "classifier_bert.save_incorrect_predictions(test_texts, all_labels, all_predictions,'./prediction/incorrect_bert_model.csv')"
   ]
  },
  {
   "cell_type": "code",
   "execution_count": 18,
   "metadata": {
    "tags": []
   },
   "outputs": [
    {
     "data": {
      "image/png": "[encoded data removed]",
      "text/plain": [
       "<Figure size 640x480 with 2 Axes>"
      ]
     },
     "metadata": {},
     "output_type": "display_data"
    },
    {
     "name": "stdout",
     "output_type": "stream",
     "text": [
      "Precision per class:\n",
      " [0.55325914 0.         0.        ]\n",
      "Recall per class:\n",
      " [1. 0. 0.]\n",
      "F1 Score per class:\n",
      " [0.71238485 0.         0.        ]\n",
      "Weighted F1 Score: 0.394133431402382\n"
     ]
    },
    {
     "name": "stderr",
     "output_type": "stream",
     "text": [
      "/opt/conda/envs/sagemaker-distribution/lib/python3.8/site-packages/sklearn/metrics/_classification.py:1469: UndefinedMetricWarning: Precision is ill-defined and being set to 0.0 in labels with no predicted samples. Use `zero_division` parameter to control this behavior.\n",
      "  _warn_prf(average, modifier, msg_start, len(result))\n"
     ]
    }
   ],
   "source": [
    "metrics(all_labels, all_predictions,'Bert',results_list )\n"
   ]
  },
  {
   "cell_type": "code",
   "execution_count": null,
   "metadata": {},
   "outputs": [],
   "source": []
  }
 ],
 "metadata": {
  "accelerator": "GPU",
  "colab": {
   "gpuType": "T4",
   "provenance": []
  },
  "kernelspec": {
   "display_name": "sagemaker-distribution:Python",
   "language": "python",
   "name": "conda-env-sagemaker-distribution-py"
  },
  "language_info": {
   "codemirror_mode": {
    "name": "ipython",
    "version": 3
   },
   "file_extension": ".py",
   "mimetype": "text/x-python",
   "name": "python",
   "nbconvert_exporter": "python",
   "pygments_lexer": "ipython3",
   "version": "3.8.17"
  }
 },
 "nbformat": 4,
 "nbformat_minor": 4
}
