{
  "cells": [
    {
      "cell_type": "code",
      "execution_count": 6,
      "metadata": {
        "id": "qGKCvAyiZAfQ"
      },
      "outputs": [],
      "source": [
        "import numpy as np\n",
        "import pandas as pd\n",
        "import matplotlib.pyplot as plt\n",
        "from sklearn.model_selection import train_test_split\n",
        "from sklearn.naive_bayes import MultinomialNB\n",
        "\n",
        "from sklearn.feature_extraction.text import CountVectorizer\n",
        "from sklearn.metrics import mean_squared_error, mean_absolute_error, r2_score\n",
        "\n",
        "from tqdm import tqdm\n",
        "import os"
      ]
    },
    {
      "cell_type": "code",
      "execution_count": 7,
      "metadata": {
        "id": "xHMkBDQRpX7k"
      },
      "outputs": [],
      "source": [
        "def regression_metrics(true_labels, predicted_labels, model_name):\n",
        "    mse = mean_squared_error(true_labels, predicted_labels)\n",
        "    mae = mean_absolute_error(true_labels, predicted_labels)\n",
        "    rmse = np.sqrt(mse)\n",
        "    r2 = r2_score(true_labels, predicted_labels)\n",
        "\n",
        "    print(f\"Results for {model_name}:\")\n",
        "    print(f\"Mean Absolute Error (MAE): {mae:.4f}\")\n",
        "    print(f\"Mean Squared Error (MSE): {mse:.4f}\")\n",
        "    print(f\"Root Mean Squared Error (RMSE): {rmse:.4f}\")\n",
        "    print(f\"R^2 Score: {r2:.4f}\")"
      ]
    },
    {
      "cell_type": "markdown",
      "metadata": {
        "id": "TctTNySbZB0p"
      },
      "source": []
    },
    {
      "cell_type": "code",
      "execution_count": 8,
      "metadata": {
        "colab": {
          "base_uri": "https://localhost:8080/",
          "height": 516
        },
        "id": "sVR72ImnZXkI",
        "outputId": "7e5b1684-0eef-4584-8f63-0c0ea4748e28"
      },
      "outputs": [
        {
          "output_type": "execute_result",
          "data": {
            "text/plain": [
              "          Clé                                             Résumé  \\\n",
              "4   SIG-13948  FP-968 - Décommissionnement des appels sortant...   \n",
              "14  SIG-13909  [FP867 - Remplacement EJB] [Etude] Découpage m...   \n",
              "15  SIG-13908  [FP867 - Remplacement EJB] [Etude] Découpage m...   \n",
              "17  SIG-13900  [Archivage et suppression des données SIG] Eta...   \n",
              "18  SIG-13889             FP1054 - Gestion des dates de campagne   \n",
              "\n",
              "                                               Projet  \\\n",
              "4   FE968 - Process recouvrement clients particuli...   \n",
              "14      FP1085 - Petits sujets techniques SIG S1 2024   \n",
              "15      FP1085 - Petits sujets techniques SIG S1 2024   \n",
              "17  FE1000 - Archivage/suppression des données cli...   \n",
              "18                         FP1054 - Evolutions iR C24   \n",
              "\n",
              "                                    Responsable        État  \\\n",
              "4                                  Gildas MOEVI    En étude   \n",
              "14                              Sylvain EYDIEUX        Prêt   \n",
              "15                              Sylvain EYDIEUX        Prêt   \n",
              "17  Tatiana KARSENTI (absente semaine du 25/03)        Prêt   \n",
              "18                                Pierre Niclas  En recette   \n",
              "\n",
              "   Versions corrigées Epic Link Lot de commande      Créateur Type de ticket  \\\n",
              "4           SIG V24.5   PE-2071      Non_Défini  Gildas MOEVI          Story   \n",
              "14                NaN   PE-2110             NaN  Emile MIQUEU          Etude   \n",
              "15                NaN   PE-2110             NaN  Emile MIQUEU          Etude   \n",
              "17                NaN   PE-2105      Non_Défini   Amine ABDOU          Etude   \n",
              "18          SIG V24.4   PE-2101      Non_Défini  Gildas MOEVI          Story   \n",
              "\n",
              "    ... Référent Développement Date de Livraison estimée  \\\n",
              "4   ...                    NaN                       NaN   \n",
              "14  ...                    NaN                2023-12-22   \n",
              "15  ...                    NaN                2023-12-22   \n",
              "17  ...                    NaN                       NaN   \n",
              "18  ...          Ayoub ELJADID                2024-03-13   \n",
              "\n",
              "   Date de Livraison réelle   Référent étude TMA Chiffrage TMA JH  \\\n",
              "4                       NaN  Nassima BENGUERNANE                1   \n",
              "14               2023-12-22      Sylvain EYDIEUX                2   \n",
              "15               2023-12-22      Sylvain EYDIEUX                6   \n",
              "17                      NaN   Jean-Michel FORHAN                7   \n",
              "18               2024-03-13  Nassima BENGUERNANE               11   \n",
              "\n",
              "   Versions affectées                                        Description  \\\n",
              "4           SIG V24.5                                                NaN   \n",
              "14                NaN                                                NaN   \n",
              "15                NaN                                                NaN   \n",
              "17                NaN  L’objectif de cette étude est de :\\n\\n* Mettre...   \n",
              "18          SIG V24.4                                                NaN   \n",
              "\n",
              "                                       Description US  \\\n",
              "4   {panel:bgColor=#e3fcef}\\n*Contexte* : \\n\\nLe c...   \n",
              "14  {panel:bgColor=#e3fcef}\\n*Contexte* : Dans le ...   \n",
              "15  {panel:bgColor=#e3fcef}\\n*Contexte* : Dans le ...   \n",
              "17  {panel:bgColor=#e3fcef}\\n*Contexte* : \\n\\nL'ét...   \n",
              "18  {panel:bgColor=#e3fcef}\\n*Contexte* : Dans le ...   \n",
              "\n",
              "                               Critères d’acceptation  \\\n",
              "4   ||*Cas d'utilisation*||\\n|{panel:bgColor=#e3fc...   \n",
              "14  ||*Cas d'utilisation*||\\n|{panel:bgColor=#e3fc...   \n",
              "15  ||*Cas d'utilisation*||\\n|{panel:bgColor=#e3fc...   \n",
              "17  ||Cas d'utilisation||\\r\\n|{panel:bgColor=#e3fc...   \n",
              "18  ||*Cas d'utilisation*||\\n|{panel:bgColor=#e3fc...   \n",
              "\n",
              "                                     Résumé du ticket  \n",
              "4   *Contexte*\\r\\nLors du processus de recouvremen...  \n",
              "14                                                NaN  \n",
              "15                                                NaN  \n",
              "17                                                NaN  \n",
              "18  *Contexte*\\r\\n\\r\\nPermettre à la RBB et aux éq...  \n",
              "\n",
              "[5 rows x 22 columns]"
            ],
            "text/html": [
              "\n",
              "  <div id=\"df-515da69f-ee2d-4494-8980-cf8043ea2060\" class=\"colab-df-container\">\n",
              "    <div>\n",
              "<style scoped>\n",
              "    .dataframe tbody tr th:only-of-type {\n",
              "        vertical-align: middle;\n",
              "    }\n",
              "\n",
              "    .dataframe tbody tr th {\n",
              "        vertical-align: top;\n",
              "    }\n",
              "\n",
              "    .dataframe thead th {\n",
              "        text-align: right;\n",
              "    }\n",
              "</style>\n",
              "<table border=\"1\" class=\"dataframe\">\n",
              "  <thead>\n",
              "    <tr style=\"text-align: right;\">\n",
              "      <th></th>\n",
              "      <th>Clé</th>\n",
              "      <th>Résumé</th>\n",
              "      <th>Projet</th>\n",
              "      <th>Responsable</th>\n",
              "      <th>État</th>\n",
              "      <th>Versions corrigées</th>\n",
              "      <th>Epic Link</th>\n",
              "      <th>Lot de commande</th>\n",
              "      <th>Créateur</th>\n",
              "      <th>Type de ticket</th>\n",
              "      <th>...</th>\n",
              "      <th>Référent Développement</th>\n",
              "      <th>Date de Livraison estimée</th>\n",
              "      <th>Date de Livraison réelle</th>\n",
              "      <th>Référent étude TMA</th>\n",
              "      <th>Chiffrage TMA JH</th>\n",
              "      <th>Versions affectées</th>\n",
              "      <th>Description</th>\n",
              "      <th>Description US</th>\n",
              "      <th>Critères d’acceptation</th>\n",
              "      <th>Résumé du ticket</th>\n",
              "    </tr>\n",
              "  </thead>\n",
              "  <tbody>\n",
              "    <tr>\n",
              "      <th>4</th>\n",
              "      <td>SIG-13948</td>\n",
              "      <td>FP-968 - Décommissionnement des appels sortant...</td>\n",
              "      <td>FE968 - Process recouvrement clients particuli...</td>\n",
              "      <td>Gildas MOEVI</td>\n",
              "      <td>En étude</td>\n",
              "      <td>SIG V24.5</td>\n",
              "      <td>PE-2071</td>\n",
              "      <td>Non_Défini</td>\n",
              "      <td>Gildas MOEVI</td>\n",
              "      <td>Story</td>\n",
              "      <td>...</td>\n",
              "      <td>NaN</td>\n",
              "      <td>NaN</td>\n",
              "      <td>NaN</td>\n",
              "      <td>Nassima BENGUERNANE</td>\n",
              "      <td>1</td>\n",
              "      <td>SIG V24.5</td>\n",
              "      <td>NaN</td>\n",
              "      <td>{panel:bgColor=#e3fcef}\\n*Contexte* : \\n\\nLe c...</td>\n",
              "      <td>||*Cas d'utilisation*||\\n|{panel:bgColor=#e3fc...</td>\n",
              "      <td>*Contexte*\\r\\nLors du processus de recouvremen...</td>\n",
              "    </tr>\n",
              "    <tr>\n",
              "      <th>14</th>\n",
              "      <td>SIG-13909</td>\n",
              "      <td>[FP867 - Remplacement EJB] [Etude] Découpage m...</td>\n",
              "      <td>FP1085 - Petits sujets techniques SIG S1 2024</td>\n",
              "      <td>Sylvain EYDIEUX</td>\n",
              "      <td>Prêt</td>\n",
              "      <td>NaN</td>\n",
              "      <td>PE-2110</td>\n",
              "      <td>NaN</td>\n",
              "      <td>Emile MIQUEU</td>\n",
              "      <td>Etude</td>\n",
              "      <td>...</td>\n",
              "      <td>NaN</td>\n",
              "      <td>2023-12-22</td>\n",
              "      <td>2023-12-22</td>\n",
              "      <td>Sylvain EYDIEUX</td>\n",
              "      <td>2</td>\n",
              "      <td>NaN</td>\n",
              "      <td>NaN</td>\n",
              "      <td>{panel:bgColor=#e3fcef}\\n*Contexte* : Dans le ...</td>\n",
              "      <td>||*Cas d'utilisation*||\\n|{panel:bgColor=#e3fc...</td>\n",
              "      <td>NaN</td>\n",
              "    </tr>\n",
              "    <tr>\n",
              "      <th>15</th>\n",
              "      <td>SIG-13908</td>\n",
              "      <td>[FP867 - Remplacement EJB] [Etude] Découpage m...</td>\n",
              "      <td>FP1085 - Petits sujets techniques SIG S1 2024</td>\n",
              "      <td>Sylvain EYDIEUX</td>\n",
              "      <td>Prêt</td>\n",
              "      <td>NaN</td>\n",
              "      <td>PE-2110</td>\n",
              "      <td>NaN</td>\n",
              "      <td>Emile MIQUEU</td>\n",
              "      <td>Etude</td>\n",
              "      <td>...</td>\n",
              "      <td>NaN</td>\n",
              "      <td>2023-12-22</td>\n",
              "      <td>2023-12-22</td>\n",
              "      <td>Sylvain EYDIEUX</td>\n",
              "      <td>6</td>\n",
              "      <td>NaN</td>\n",
              "      <td>NaN</td>\n",
              "      <td>{panel:bgColor=#e3fcef}\\n*Contexte* : Dans le ...</td>\n",
              "      <td>||*Cas d'utilisation*||\\n|{panel:bgColor=#e3fc...</td>\n",
              "      <td>NaN</td>\n",
              "    </tr>\n",
              "    <tr>\n",
              "      <th>17</th>\n",
              "      <td>SIG-13900</td>\n",
              "      <td>[Archivage et suppression des données SIG] Eta...</td>\n",
              "      <td>FE1000 - Archivage/suppression des données cli...</td>\n",
              "      <td>Tatiana KARSENTI (absente semaine du 25/03)</td>\n",
              "      <td>Prêt</td>\n",
              "      <td>NaN</td>\n",
              "      <td>PE-2105</td>\n",
              "      <td>Non_Défini</td>\n",
              "      <td>Amine ABDOU</td>\n",
              "      <td>Etude</td>\n",
              "      <td>...</td>\n",
              "      <td>NaN</td>\n",
              "      <td>NaN</td>\n",
              "      <td>NaN</td>\n",
              "      <td>Jean-Michel FORHAN</td>\n",
              "      <td>7</td>\n",
              "      <td>NaN</td>\n",
              "      <td>L’objectif de cette étude est de :\\n\\n* Mettre...</td>\n",
              "      <td>{panel:bgColor=#e3fcef}\\n*Contexte* : \\n\\nL'ét...</td>\n",
              "      <td>||Cas d'utilisation||\\r\\n|{panel:bgColor=#e3fc...</td>\n",
              "      <td>NaN</td>\n",
              "    </tr>\n",
              "    <tr>\n",
              "      <th>18</th>\n",
              "      <td>SIG-13889</td>\n",
              "      <td>FP1054 - Gestion des dates de campagne</td>\n",
              "      <td>FP1054 - Evolutions iR C24</td>\n",
              "      <td>Pierre Niclas</td>\n",
              "      <td>En recette</td>\n",
              "      <td>SIG V24.4</td>\n",
              "      <td>PE-2101</td>\n",
              "      <td>Non_Défini</td>\n",
              "      <td>Gildas MOEVI</td>\n",
              "      <td>Story</td>\n",
              "      <td>...</td>\n",
              "      <td>Ayoub ELJADID</td>\n",
              "      <td>2024-03-13</td>\n",
              "      <td>2024-03-13</td>\n",
              "      <td>Nassima BENGUERNANE</td>\n",
              "      <td>11</td>\n",
              "      <td>SIG V24.4</td>\n",
              "      <td>NaN</td>\n",
              "      <td>{panel:bgColor=#e3fcef}\\n*Contexte* : Dans le ...</td>\n",
              "      <td>||*Cas d'utilisation*||\\n|{panel:bgColor=#e3fc...</td>\n",
              "      <td>*Contexte*\\r\\n\\r\\nPermettre à la RBB et aux éq...</td>\n",
              "    </tr>\n",
              "  </tbody>\n",
              "</table>\n",
              "<p>5 rows × 22 columns</p>\n",
              "</div>\n",
              "    <div class=\"colab-df-buttons\">\n",
              "\n",
              "  <div class=\"colab-df-container\">\n",
              "    <button class=\"colab-df-convert\" onclick=\"convertToInteractive('df-515da69f-ee2d-4494-8980-cf8043ea2060')\"\n",
              "            title=\"Convert this dataframe to an interactive table.\"\n",
              "            style=\"display:none;\">\n",
              "\n",
              "  <svg xmlns=\"http://www.w3.org/2000/svg\" height=\"24px\" viewBox=\"0 -960 960 960\">\n",
              "    <path d=\"M120-120v-720h720v720H120Zm60-500h600v-160H180v160Zm220 220h160v-160H400v160Zm0 220h160v-160H400v160ZM180-400h160v-160H180v160Zm440 0h160v-160H620v160ZM180-180h160v-160H180v160Zm440 0h160v-160H620v160Z\"/>\n",
              "  </svg>\n",
              "    </button>\n",
              "\n",
              "  <style>\n",
              "    .colab-df-container {\n",
              "      display:flex;\n",
              "      gap: 12px;\n",
              "    }\n",
              "\n",
              "    .colab-df-convert {\n",
              "      background-color: #E8F0FE;\n",
              "      border: none;\n",
              "      border-radius: 50%;\n",
              "      cursor: pointer;\n",
              "      display: none;\n",
              "      fill: #1967D2;\n",
              "      height: 32px;\n",
              "      padding: 0 0 0 0;\n",
              "      width: 32px;\n",
              "    }\n",
              "\n",
              "    .colab-df-convert:hover {\n",
              "      background-color: #E2EBFA;\n",
              "      box-shadow: 0px 1px 2px rgba(60, 64, 67, 0.3), 0px 1px 3px 1px rgba(60, 64, 67, 0.15);\n",
              "      fill: #174EA6;\n",
              "    }\n",
              "\n",
              "    .colab-df-buttons div {\n",
              "      margin-bottom: 4px;\n",
              "    }\n",
              "\n",
              "    [theme=dark] .colab-df-convert {\n",
              "      background-color: #3B4455;\n",
              "      fill: #D2E3FC;\n",
              "    }\n",
              "\n",
              "    [theme=dark] .colab-df-convert:hover {\n",
              "      background-color: #434B5C;\n",
              "      box-shadow: 0px 1px 3px 1px rgba(0, 0, 0, 0.15);\n",
              "      filter: drop-shadow(0px 1px 2px rgba(0, 0, 0, 0.3));\n",
              "      fill: #FFFFFF;\n",
              "    }\n",
              "  </style>\n",
              "\n",
              "    <script>\n",
              "      const buttonEl =\n",
              "        document.querySelector('#df-515da69f-ee2d-4494-8980-cf8043ea2060 button.colab-df-convert');\n",
              "      buttonEl.style.display =\n",
              "        google.colab.kernel.accessAllowed ? 'block' : 'none';\n",
              "\n",
              "      async function convertToInteractive(key) {\n",
              "        const element = document.querySelector('#df-515da69f-ee2d-4494-8980-cf8043ea2060');\n",
              "        const dataTable =\n",
              "          await google.colab.kernel.invokeFunction('convertToInteractive',\n",
              "                                                    [key], {});\n",
              "        if (!dataTable) return;\n",
              "\n",
              "        const docLinkHtml = 'Like what you see? Visit the ' +\n",
              "          '<a target=\"_blank\" href=https://colab.research.google.com/notebooks/data_table.ipynb>data table notebook</a>'\n",
              "          + ' to learn more about interactive tables.';\n",
              "        element.innerHTML = '';\n",
              "        dataTable['output_type'] = 'display_data';\n",
              "        await google.colab.output.renderOutput(dataTable, element);\n",
              "        const docLink = document.createElement('div');\n",
              "        docLink.innerHTML = docLinkHtml;\n",
              "        element.appendChild(docLink);\n",
              "      }\n",
              "    </script>\n",
              "  </div>\n",
              "\n",
              "\n",
              "<div id=\"df-a2251d6a-aa56-432e-bf55-26455a212f13\">\n",
              "  <button class=\"colab-df-quickchart\" onclick=\"quickchart('df-a2251d6a-aa56-432e-bf55-26455a212f13')\"\n",
              "            title=\"Suggest charts\"\n",
              "            style=\"display:none;\">\n",
              "\n",
              "<svg xmlns=\"http://www.w3.org/2000/svg\" height=\"24px\"viewBox=\"0 0 24 24\"\n",
              "     width=\"24px\">\n",
              "    <g>\n",
              "        <path d=\"M19 3H5c-1.1 0-2 .9-2 2v14c0 1.1.9 2 2 2h14c1.1 0 2-.9 2-2V5c0-1.1-.9-2-2-2zM9 17H7v-7h2v7zm4 0h-2V7h2v10zm4 0h-2v-4h2v4z\"/>\n",
              "    </g>\n",
              "</svg>\n",
              "  </button>\n",
              "\n",
              "<style>\n",
              "  .colab-df-quickchart {\n",
              "      --bg-color: #E8F0FE;\n",
              "      --fill-color: #1967D2;\n",
              "      --hover-bg-color: #E2EBFA;\n",
              "      --hover-fill-color: #174EA6;\n",
              "      --disabled-fill-color: #AAA;\n",
              "      --disabled-bg-color: #DDD;\n",
              "  }\n",
              "\n",
              "  [theme=dark] .colab-df-quickchart {\n",
              "      --bg-color: #3B4455;\n",
              "      --fill-color: #D2E3FC;\n",
              "      --hover-bg-color: #434B5C;\n",
              "      --hover-fill-color: #FFFFFF;\n",
              "      --disabled-bg-color: #3B4455;\n",
              "      --disabled-fill-color: #666;\n",
              "  }\n",
              "\n",
              "  .colab-df-quickchart {\n",
              "    background-color: var(--bg-color);\n",
              "    border: none;\n",
              "    border-radius: 50%;\n",
              "    cursor: pointer;\n",
              "    display: none;\n",
              "    fill: var(--fill-color);\n",
              "    height: 32px;\n",
              "    padding: 0;\n",
              "    width: 32px;\n",
              "  }\n",
              "\n",
              "  .colab-df-quickchart:hover {\n",
              "    background-color: var(--hover-bg-color);\n",
              "    box-shadow: 0 1px 2px rgba(60, 64, 67, 0.3), 0 1px 3px 1px rgba(60, 64, 67, 0.15);\n",
              "    fill: var(--button-hover-fill-color);\n",
              "  }\n",
              "\n",
              "  .colab-df-quickchart-complete:disabled,\n",
              "  .colab-df-quickchart-complete:disabled:hover {\n",
              "    background-color: var(--disabled-bg-color);\n",
              "    fill: var(--disabled-fill-color);\n",
              "    box-shadow: none;\n",
              "  }\n",
              "\n",
              "  .colab-df-spinner {\n",
              "    border: 2px solid var(--fill-color);\n",
              "    border-color: transparent;\n",
              "    border-bottom-color: var(--fill-color);\n",
              "    animation:\n",
              "      spin 1s steps(1) infinite;\n",
              "  }\n",
              "\n",
              "  @keyframes spin {\n",
              "    0% {\n",
              "      border-color: transparent;\n",
              "      border-bottom-color: var(--fill-color);\n",
              "      border-left-color: var(--fill-color);\n",
              "    }\n",
              "    20% {\n",
              "      border-color: transparent;\n",
              "      border-left-color: var(--fill-color);\n",
              "      border-top-color: var(--fill-color);\n",
              "    }\n",
              "    30% {\n",
              "      border-color: transparent;\n",
              "      border-left-color: var(--fill-color);\n",
              "      border-top-color: var(--fill-color);\n",
              "      border-right-color: var(--fill-color);\n",
              "    }\n",
              "    40% {\n",
              "      border-color: transparent;\n",
              "      border-right-color: var(--fill-color);\n",
              "      border-top-color: var(--fill-color);\n",
              "    }\n",
              "    60% {\n",
              "      border-color: transparent;\n",
              "      border-right-color: var(--fill-color);\n",
              "    }\n",
              "    80% {\n",
              "      border-color: transparent;\n",
              "      border-right-color: var(--fill-color);\n",
              "      border-bottom-color: var(--fill-color);\n",
              "    }\n",
              "    90% {\n",
              "      border-color: transparent;\n",
              "      border-bottom-color: var(--fill-color);\n",
              "    }\n",
              "  }\n",
              "</style>\n",
              "\n",
              "  <script>\n",
              "    async function quickchart(key) {\n",
              "      const quickchartButtonEl =\n",
              "        document.querySelector('#' + key + ' button');\n",
              "      quickchartButtonEl.disabled = true;  // To prevent multiple clicks.\n",
              "      quickchartButtonEl.classList.add('colab-df-spinner');\n",
              "      try {\n",
              "        const charts = await google.colab.kernel.invokeFunction(\n",
              "            'suggestCharts', [key], {});\n",
              "      } catch (error) {\n",
              "        console.error('Error during call to suggestCharts:', error);\n",
              "      }\n",
              "      quickchartButtonEl.classList.remove('colab-df-spinner');\n",
              "      quickchartButtonEl.classList.add('colab-df-quickchart-complete');\n",
              "    }\n",
              "    (() => {\n",
              "      let quickchartButtonEl =\n",
              "        document.querySelector('#df-a2251d6a-aa56-432e-bf55-26455a212f13 button');\n",
              "      quickchartButtonEl.style.display =\n",
              "        google.colab.kernel.accessAllowed ? 'block' : 'none';\n",
              "    })();\n",
              "  </script>\n",
              "</div>\n",
              "    </div>\n",
              "  </div>\n"
            ],
            "application/vnd.google.colaboratory.intrinsic+json": {
              "type": "dataframe",
              "variable_name": "dataset_filtered"
            }
          },
          "metadata": {},
          "execution_count": 8
        }
      ],
      "source": [
        "dataset = pd.read_csv(\"./dataset.csv\")\n",
        "dataset_filtered = dataset.dropna(subset=['Chiffrage TMA JH'])\n",
        "\n",
        "dataset_filtered.head()"
      ]
    },
    {
      "cell_type": "code",
      "execution_count": 9,
      "metadata": {
        "colab": {
          "base_uri": "https://localhost:8080/",
          "height": 391
        },
        "id": "IMQ-uEMaZuxw",
        "outputId": "48d89bac-e195-4df7-920f-3a7b091f22da"
      },
      "outputs": [
        {
          "output_type": "error",
          "ename": "OSError",
          "evalue": "[E050] Can't find model 'fr_core_news_sm'. It doesn't seem to be a Python package or a valid path to a data directory.",
          "traceback": [
            "\u001b[0;31m---------------------------------------------------------------------------\u001b[0m",
            "\u001b[0;31mOSError\u001b[0m                                   Traceback (most recent call last)",
            "\u001b[0;32m<ipython-input-9-4f0daf95bb87>\u001b[0m in \u001b[0;36m<cell line: 4>\u001b[0;34m()\u001b[0m\n\u001b[1;32m      2\u001b[0m \u001b[0;32mfrom\u001b[0m \u001b[0mspacy\u001b[0m\u001b[0;34m.\u001b[0m\u001b[0mtokenizer\u001b[0m \u001b[0;32mimport\u001b[0m \u001b[0mTokenizer\u001b[0m\u001b[0;34m\u001b[0m\u001b[0;34m\u001b[0m\u001b[0m\n\u001b[1;32m      3\u001b[0m \u001b[0;34m\u001b[0m\u001b[0m\n\u001b[0;32m----> 4\u001b[0;31m \u001b[0mnlp\u001b[0m \u001b[0;34m=\u001b[0m \u001b[0mspacy\u001b[0m\u001b[0;34m.\u001b[0m\u001b[0mload\u001b[0m\u001b[0;34m(\u001b[0m\u001b[0;34m\"fr_core_news_sm\"\u001b[0m\u001b[0;34m)\u001b[0m\u001b[0;34m\u001b[0m\u001b[0;34m\u001b[0m\u001b[0m\n\u001b[0m\u001b[1;32m      5\u001b[0m \u001b[0mnlp\u001b[0m\u001b[0;34m.\u001b[0m\u001b[0mtokenizer\u001b[0m \u001b[0;34m=\u001b[0m \u001b[0mTokenizer\u001b[0m\u001b[0;34m(\u001b[0m\u001b[0mnlp\u001b[0m\u001b[0;34m.\u001b[0m\u001b[0mvocab\u001b[0m\u001b[0;34m)\u001b[0m\u001b[0;34m\u001b[0m\u001b[0;34m\u001b[0m\u001b[0m\n",
            "\u001b[0;32m/usr/local/lib/python3.10/dist-packages/spacy/__init__.py\u001b[0m in \u001b[0;36mload\u001b[0;34m(name, vocab, disable, enable, exclude, config)\u001b[0m\n\u001b[1;32m     49\u001b[0m     \u001b[0mRETURNS\u001b[0m \u001b[0;34m(\u001b[0m\u001b[0mLanguage\u001b[0m\u001b[0;34m)\u001b[0m\u001b[0;34m:\u001b[0m \u001b[0mThe\u001b[0m \u001b[0mloaded\u001b[0m \u001b[0mnlp\u001b[0m \u001b[0mobject\u001b[0m\u001b[0;34m.\u001b[0m\u001b[0;34m\u001b[0m\u001b[0;34m\u001b[0m\u001b[0m\n\u001b[1;32m     50\u001b[0m     \"\"\"\n\u001b[0;32m---> 51\u001b[0;31m     return util.load_model(\n\u001b[0m\u001b[1;32m     52\u001b[0m         \u001b[0mname\u001b[0m\u001b[0;34m,\u001b[0m\u001b[0;34m\u001b[0m\u001b[0;34m\u001b[0m\u001b[0m\n\u001b[1;32m     53\u001b[0m         \u001b[0mvocab\u001b[0m\u001b[0;34m=\u001b[0m\u001b[0mvocab\u001b[0m\u001b[0;34m,\u001b[0m\u001b[0;34m\u001b[0m\u001b[0;34m\u001b[0m\u001b[0m\n",
            "\u001b[0;32m/usr/local/lib/python3.10/dist-packages/spacy/util.py\u001b[0m in \u001b[0;36mload_model\u001b[0;34m(name, vocab, disable, enable, exclude, config)\u001b[0m\n\u001b[1;32m    470\u001b[0m     \u001b[0;32mif\u001b[0m \u001b[0mname\u001b[0m \u001b[0;32min\u001b[0m \u001b[0mOLD_MODEL_SHORTCUTS\u001b[0m\u001b[0;34m:\u001b[0m\u001b[0;34m\u001b[0m\u001b[0;34m\u001b[0m\u001b[0m\n\u001b[1;32m    471\u001b[0m         \u001b[0;32mraise\u001b[0m \u001b[0mIOError\u001b[0m\u001b[0;34m(\u001b[0m\u001b[0mErrors\u001b[0m\u001b[0;34m.\u001b[0m\u001b[0mE941\u001b[0m\u001b[0;34m.\u001b[0m\u001b[0mformat\u001b[0m\u001b[0;34m(\u001b[0m\u001b[0mname\u001b[0m\u001b[0;34m=\u001b[0m\u001b[0mname\u001b[0m\u001b[0;34m,\u001b[0m \u001b[0mfull\u001b[0m\u001b[0;34m=\u001b[0m\u001b[0mOLD_MODEL_SHORTCUTS\u001b[0m\u001b[0;34m[\u001b[0m\u001b[0mname\u001b[0m\u001b[0;34m]\u001b[0m\u001b[0;34m)\u001b[0m\u001b[0;34m)\u001b[0m  \u001b[0;31m# type: ignore[index]\u001b[0m\u001b[0;34m\u001b[0m\u001b[0;34m\u001b[0m\u001b[0m\n\u001b[0;32m--> 472\u001b[0;31m     \u001b[0;32mraise\u001b[0m \u001b[0mIOError\u001b[0m\u001b[0;34m(\u001b[0m\u001b[0mErrors\u001b[0m\u001b[0;34m.\u001b[0m\u001b[0mE050\u001b[0m\u001b[0;34m.\u001b[0m\u001b[0mformat\u001b[0m\u001b[0;34m(\u001b[0m\u001b[0mname\u001b[0m\u001b[0;34m=\u001b[0m\u001b[0mname\u001b[0m\u001b[0;34m)\u001b[0m\u001b[0;34m)\u001b[0m\u001b[0;34m\u001b[0m\u001b[0;34m\u001b[0m\u001b[0m\n\u001b[0m\u001b[1;32m    473\u001b[0m \u001b[0;34m\u001b[0m\u001b[0m\n\u001b[1;32m    474\u001b[0m \u001b[0;34m\u001b[0m\u001b[0m\n",
            "\u001b[0;31mOSError\u001b[0m: [E050] Can't find model 'fr_core_news_sm'. It doesn't seem to be a Python package or a valid path to a data directory."
          ]
        }
      ],
      "source": [
        "import spacy\n",
        "from spacy.tokenizer import Tokenizer\n",
        "\n",
        "nlp = spacy.load(\"fr_core_news_sm\")\n",
        "nlp.tokenizer = Tokenizer(nlp.vocab)"
      ]
    },
    {
      "cell_type": "code",
      "execution_count": 74,
      "metadata": {
        "colab": {
          "base_uri": "https://localhost:8080/"
        },
        "id": "yuEN1ClUZ2Lg",
        "outputId": "9d45076d-18af-48a1-9037-5c87cb90bd6a"
      },
      "outputs": [
        {
          "output_type": "stream",
          "name": "stderr",
          "text": [
            "<ipython-input-74-2f2c195e44e2>:1: SettingWithCopyWarning: \n",
            "A value is trying to be set on a copy of a slice from a DataFrame.\n",
            "Try using .loc[row_indexer,col_indexer] = value instead\n",
            "\n",
            "See the caveats in the documentation: https://pandas.pydata.org/pandas-docs/stable/user_guide/indexing.html#returning-a-view-versus-a-copy\n",
            "  dataset_filtered['entry'] = dataset_filtered['Projet'] + \" \" + dataset_filtered['Critères d’acceptation'] + \" \" + dataset_filtered['Description US']\n"
          ]
        }
      ],
      "source": [
        "dataset_filtered['entry'] = dataset_filtered['Projet'] + \" \" + dataset_filtered['Critères d’acceptation'] + \" \" + dataset_filtered['Description US']\n",
        "\n",
        "documents = []\n",
        "import multiprocessing\n",
        "\n",
        "max_processes = multiprocessing.cpu_count()\n",
        "\n",
        "for doc in nlp.pipe(dataset_filtered['entry'].astype(str), n_process=max_processes - 1, batch_size=1000):\n",
        "    documents.append(' '.join([tok.lemma_ for tok in doc if not tok.is_stop and tok.is_alpha]))"
      ]
    },
    {
      "cell_type": "code",
      "execution_count": 75,
      "metadata": {
        "colab": {
          "base_uri": "https://localhost:8080/"
        },
        "id": "OFlutZIgdRjs",
        "outputId": "79b10898-e021-4a64-c024-646e6edb7f54"
      },
      "outputs": [
        {
          "output_type": "stream",
          "name": "stdout",
          "text": [
            "[ 1.  2.  6. ...  7. 21.  8.]\n"
          ]
        },
        {
          "output_type": "stream",
          "name": "stderr",
          "text": [
            "<ipython-input-75-c14d2d152a86>:3: SettingWithCopyWarning: \n",
            "A value is trying to be set on a copy of a slice from a DataFrame.\n",
            "Try using .loc[row_indexer,col_indexer] = value instead\n",
            "\n",
            "See the caveats in the documentation: https://pandas.pydata.org/pandas-docs/stable/user_guide/indexing.html#returning-a-view-versus-a-copy\n",
            "  dataset_filtered['Chiffrage TMA JH'] = dataset_filtered['Chiffrage TMA JH'].str.replace(',', '.')\n"
          ]
        }
      ],
      "source": [
        "cv = CountVectorizer(max_features=1500)\n",
        "x_texts = cv.fit_transform(documents).toarray()\n",
        "dataset_filtered['Chiffrage TMA JH'] = dataset_filtered['Chiffrage TMA JH'].str.replace(',', '.')\n",
        "\n",
        "# Conversion des valeurs en flottants\n",
        "y_chiffrage = dataset_filtered[\"Chiffrage TMA JH\"].astype(float).values\n",
        "print(y_chiffrage)"
      ]
    },
    {
      "cell_type": "code",
      "execution_count": 76,
      "metadata": {
        "id": "hoTAXyD1c9dT"
      },
      "outputs": [],
      "source": [
        "train_texts, test_texts, train_labels, test_labels = train_test_split(x_texts, y_chiffrage, test_size=0.3)\n"
      ]
    },
    {
      "cell_type": "code",
      "execution_count": 77,
      "metadata": {
        "colab": {
          "base_uri": "https://localhost:8080/"
        },
        "id": "ZkzcjVTud_MH",
        "outputId": "3da2359d-b6b2-4ce5-d869-158297be27b3"
      },
      "outputs": [
        {
          "output_type": "stream",
          "name": "stdout",
          "text": [
            "Results for LinearRegression:\n",
            "Mean Absolute Error (MAE): 23628740716786.5000\n",
            "Mean Squared Error (MSE): 3521658428457642829469974528.0000\n",
            "Root Mean Squared Error (RMSE): 59343562653902.4297\n",
            "R^2 Score: -47035309496524216677171200.0000\n"
          ]
        }
      ],
      "source": [
        "from sklearn.linear_model import LinearRegression\n",
        "regressor = LinearRegression()\n",
        "regressor.fit(train_texts, train_labels)\n",
        "\n",
        "# Prédiction sur l'ensemble de test\n",
        "y_pred = regressor.predict(test_texts)\n",
        "regression_metrics(test_labels,y_pred,'LinearRegression')"
      ]
    },
    {
      "cell_type": "markdown",
      "metadata": {
        "id": "Wq5guaUhgxih"
      },
      "source": []
    },
    {
      "cell_type": "code",
      "execution_count": 78,
      "metadata": {
        "id": "Gwj8IokQeH6o"
      },
      "outputs": [],
      "source": [
        "from sklearn.metrics import mean_squared_error, mean_absolute_error, r2_score\n",
        "import numpy as np\n",
        "\n",
        "\n"
      ]
    },
    {
      "cell_type": "code",
      "execution_count": 79,
      "metadata": {
        "colab": {
          "base_uri": "https://localhost:8080/"
        },
        "id": "Jxgsbiq8eDVd",
        "outputId": "9e69db13-be25-4f25-c9cb-6cad158c3a5e"
      },
      "outputs": [
        {
          "output_type": "stream",
          "name": "stdout",
          "text": [
            "Results for LinearRegression:\n",
            "Mean Absolute Error (MAE): 6.5257\n",
            "Mean Squared Error (MSE): 98.3541\n",
            "Root Mean Squared Error (RMSE): 9.9174\n",
            "R^2 Score: -0.3136\n"
          ]
        }
      ],
      "source": [
        "from sklearn.linear_model import Ridge\n",
        "\n",
        "# Créer et entraîner le modèle de régression Ridge\n",
        "ridge_regressor = Ridge()\n",
        "ridge_regressor.fit(train_texts, train_labels)\n",
        "\n",
        "# Prédiction sur l'ensemble de test\n",
        "y_pred = ridge_regressor.predict(test_texts)\n",
        "regression_metrics(test_labels,y_pred,'LinearRegression')"
      ]
    },
    {
      "cell_type": "code",
      "execution_count": 80,
      "metadata": {
        "colab": {
          "base_uri": "https://localhost:8080/"
        },
        "id": "to-LLtpQiLI2",
        "outputId": "af677dc2-3781-4d23-a92a-5d8817fec29f"
      },
      "outputs": [
        {
          "output_type": "stream",
          "name": "stdout",
          "text": [
            "Results for LinearRegression:\n",
            "Mean Absolute Error (MAE): 5.1108\n",
            "Mean Squared Error (MSE): 69.6380\n",
            "Root Mean Squared Error (RMSE): 8.3449\n",
            "R^2 Score: 0.0699\n"
          ]
        }
      ],
      "source": [
        "from sklearn.ensemble import RandomForestRegressor\n",
        "\n",
        "# Créer et entraîner le modèle de forêt aléatoire pour la régression\n",
        "rf_regressor = RandomForestRegressor()\n",
        "rf_regressor.fit(train_texts, train_labels)\n",
        "\n",
        "# Prédiction sur l'ensemble de test\n",
        "y_pred = rf_regressor.predict(test_texts)\n",
        "regression_metrics(test_labels,y_pred,'LinearRegression')\n"
      ]
    },
    {
      "cell_type": "code",
      "execution_count": 80,
      "metadata": {
        "id": "OgpTs-G3iTee"
      },
      "outputs": [],
      "source": []
    },
    {
      "cell_type": "markdown",
      "metadata": {
        "id": "tMxRNFoTjbue"
      },
      "source": [
        "On passe au model de IA\n"
      ]
    },
    {
      "cell_type": "code",
      "execution_count": 81,
      "metadata": {
        "id": "DGWsLWOGjeeV",
        "colab": {
          "base_uri": "https://localhost:8080/"
        },
        "outputId": "2ac0af24-f57a-4b70-ae31-98d4cc8baf96"
      },
      "outputs": [
        {
          "output_type": "stream",
          "name": "stderr",
          "text": [
            "<ipython-input-81-295c14f41a5d>:3: SettingWithCopyWarning: \n",
            "A value is trying to be set on a copy of a slice from a DataFrame.\n",
            "Try using .loc[row_indexer,col_indexer] = value instead\n",
            "\n",
            "See the caveats in the documentation: https://pandas.pydata.org/pandas-docs/stable/user_guide/indexing.html#returning-a-view-versus-a-copy\n",
            "  dataset_filtered['combined_text'] = dataset_filtered['Projet'] + \" \" + dataset_filtered['Critères d’acceptation'] + \" \" + dataset_filtered['Description US']\n"
          ]
        }
      ],
      "source": [
        "dataset_filtered = dataset.dropna(subset=['Chiffrage TMA JH'])\n",
        "\n",
        "dataset_filtered['combined_text'] = dataset_filtered['Projet'] + \" \" + dataset_filtered['Critères d’acceptation'] + \" \" + dataset_filtered['Description US']\n",
        "X = dataset_filtered['combined_text'].values\n",
        "\n",
        "y_beforeParse= dataset_filtered['Chiffrage TMA JH'].str.replace(',', '.')\n",
        "y = y_beforeParse.astype(float).values"
      ]
    },
    {
      "cell_type": "markdown",
      "metadata": {
        "id": "CATtDVvYmx7R"
      },
      "source": []
    },
    {
      "cell_type": "code",
      "execution_count": 82,
      "metadata": {
        "id": "FTWtgx2qjf0J"
      },
      "outputs": [],
      "source": [
        "X_train, X_test, y_train, y_test = train_test_split(X, y, test_size=0.2)\n"
      ]
    },
    {
      "cell_type": "code",
      "execution_count": 83,
      "metadata": {
        "colab": {
          "base_uri": "https://localhost:8080/"
        },
        "id": "ggtd678Zj1S7",
        "outputId": "f6ddc44b-72c9-461c-ea95-7581825e25e8"
      },
      "outputs": [
        {
          "output_type": "stream",
          "name": "stderr",
          "text": [
            "Some weights of BertForSequenceClassification were not initialized from the model checkpoint at bert-base-uncased and are newly initialized: ['classifier.bias', 'classifier.weight']\n",
            "You should probably TRAIN this model on a down-stream task to be able to use it for predictions and inference.\n"
          ]
        }
      ],
      "source": [
        "from transformers import BertTokenizer, BertModel, BertForSequenceClassification\n",
        "import torch\n",
        "from torch import nn\n",
        "\n",
        "# Initialize the tokenizer and model\n",
        "tokenizer = BertTokenizer.from_pretrained('bert-base-uncased')\n",
        "model = BertForSequenceClassification.from_pretrained('bert-base-uncased', num_labels=1)  # Change for regression\n"
      ]
    },
    {
      "cell_type": "code",
      "execution_count": 84,
      "metadata": {
        "id": "XKojafWJj17S"
      },
      "outputs": [],
      "source": [
        "from torch.utils.data import Dataset, DataLoader\n",
        "import torch\n",
        "\n",
        "class TextDataset(Dataset):\n",
        "    def __init__(self, texts, labels, tokenizer):\n",
        "        self.texts = texts\n",
        "        self.labels = labels\n",
        "        self.tokenizer = tokenizer\n",
        "\n",
        "    def __len__(self):\n",
        "        return len(self.texts)\n",
        "\n",
        "    def __getitem__(self, idx):\n",
        "        text = str(self.texts[idx])\n",
        "        inputs = self.tokenizer(text, max_length=512, truncation=True, padding='max_length', return_tensors=\"pt\")\n",
        "        inputs = {key: val.squeeze() for key, val in inputs.items()}  # Remove the batch dimension added by return_tensors\n",
        "        label = torch.tensor(self.labels[idx], dtype=torch.float)\n",
        "        return inputs, label\n"
      ]
    },
    {
      "cell_type": "code",
      "execution_count": 85,
      "metadata": {
        "id": "NHPR-wSCj9Bi"
      },
      "outputs": [],
      "source": [
        "from transformers import BertForSequenceClassification, BertTokenizer\n",
        "import torch.nn as nn\n",
        "\n",
        "class BertForRegression(BertForSequenceClassification):\n",
        "    def __init__(self, config):\n",
        "        super().__init__(config)\n",
        "        self.num_labels = 1  # This is for regression, indicating a single continuous output\n",
        "        self.classifier = nn.Linear(config.hidden_size, 1)  # Ensure this outputs a single value\n",
        "\n",
        "    def forward(self, input_ids, attention_mask=None, token_type_ids=None, position_ids=None, head_mask=None, inputs_embeds=None, labels=None):\n",
        "        outputs = self.bert(input_ids,\n",
        "                            attention_mask=attention_mask,\n",
        "                            token_type_ids=token_type_ids,\n",
        "                            position_ids=position_ids,\n",
        "                            head_mask=head_mask,\n",
        "                            inputs_embeds=inputs_embeds)\n",
        "        pooled_output = outputs[1]\n",
        "        pooled_output = self.dropout(pooled_output)\n",
        "        logits = self.classifier(pooled_output)\n",
        "        return logits  # Directly return logits without squeezing here\n",
        "\n"
      ]
    },
    {
      "cell_type": "code",
      "execution_count": 86,
      "metadata": {
        "colab": {
          "base_uri": "https://localhost:8080/"
        },
        "id": "JIjgQ0AMkLCI",
        "outputId": "a7af1135-0965-4470-fb65-7202fd949bed"
      },
      "outputs": [
        {
          "output_type": "stream",
          "name": "stderr",
          "text": [
            "Some weights of BertForRegression were not initialized from the model checkpoint at bert-base-uncased and are newly initialized: ['classifier.bias', 'classifier.weight']\n",
            "You should probably TRAIN this model on a down-stream task to be able to use it for predictions and inference.\n"
          ]
        }
      ],
      "source": [
        "tokenizer = BertTokenizer.from_pretrained('bert-base-uncased')\n",
        "model = BertForRegression.from_pretrained('bert-base-uncased')\n",
        "\n",
        "# Assume X and y are your dataset's features and labels\n",
        "dataset = TextDataset(X_train,y_train, tokenizer)\n",
        "loader = DataLoader(dataset, batch_size=8, shuffle=True)\n"
      ]
    },
    {
      "cell_type": "code",
      "execution_count": 87,
      "metadata": {
        "colab": {
          "base_uri": "https://localhost:8080/"
        },
        "id": "EIwtsQt9m0q4",
        "outputId": "a497df83-cb14-4347-8901-0fe77b47b7bc"
      },
      "outputs": [
        {
          "output_type": "stream",
          "name": "stdout",
          "text": [
            "GPU: Tesla T4\n",
            "Epoch 1 finished.\n",
            "Epoch 2 finished.\n",
            "Epoch 3 finished.\n"
          ]
        }
      ],
      "source": [
        "from torch.optim import AdamW\n",
        "from torch.nn import MSELoss\n",
        "\n",
        "if torch.cuda.is_available():\n",
        "    device = torch.device(\"cuda\")\n",
        "    print(f'GPU: {torch.cuda.get_device_name(0)}')\n",
        "else:\n",
        "    device = torch.device(\"cpu\")\n",
        "    print('GPU not available, using CPU instead.')\n",
        "\n",
        "optimizer = AdamW(model.parameters(), lr=5e-5)\n",
        "loss_function = MSELoss()\n",
        "\n",
        "model = model.to(device)\n",
        "model.train()\n",
        "\n",
        "for epoch in range(3):  # Assuming 3 epochs for demonstration\n",
        "    for batch in loader:\n",
        "        # Unpack the batch\n",
        "        inputs, labels = batch\n",
        "\n",
        "        # Move inputs (a dictionary of tensors) to the GPU\n",
        "        inputs = {k: v.to(device) for k, v in inputs.items()}\n",
        "\n",
        "        # Move labels to the GPU\n",
        "        labels = labels.to(device)\n",
        "\n",
        "        optimizer.zero_grad()\n",
        "\n",
        "        # Forward pass and get logits directly. Ensure model's output matches the loss function's expectation\n",
        "        outputs = model(**inputs)\n",
        "        logits = outputs.squeeze(-1)  # Adjust this line based on your model's specific output structure\n",
        "\n",
        "        # Calculate loss\n",
        "        loss = loss_function(logits, labels)\n",
        "\n",
        "        # Backward pass and optimization\n",
        "        loss.backward()\n",
        "        optimizer.step()\n",
        "\n",
        "    print(f\"Epoch {epoch + 1} finished.\")\n"
      ]
    },
    {
      "cell_type": "code",
      "execution_count": 88,
      "metadata": {
        "id": "95sc0TOooNqQ",
        "colab": {
          "base_uri": "https://localhost:8080/"
        },
        "outputId": "2eca48a3-4832-4c94-e363-af2c7ea1f884"
      },
      "outputs": [
        {
          "output_type": "execute_result",
          "data": {
            "text/plain": [
              "('bert_tokenizer/tokenizer_config.json',\n",
              " 'bert_tokenizer/special_tokens_map.json',\n",
              " 'bert_tokenizer/vocab.txt',\n",
              " 'bert_tokenizer/added_tokens.json')"
            ]
          },
          "metadata": {},
          "execution_count": 88
        }
      ],
      "source": [
        "model_path = \"bert_for_regression.pth\"\n",
        "torch.save(model.state_dict(), model_path)\n",
        "\n",
        "# If you're using a tokenizer, save it too\n",
        "tokenizer_path = \"bert_tokenizer\"\n",
        "tokenizer.save_pretrained(tokenizer_path)"
      ]
    },
    {
      "cell_type": "code",
      "source": [
        "model.eval()\n",
        "test_dataset = TextDataset(X_test, y_test, tokenizer)  # Replace X_test, y_test with your test data and labels\n",
        "test_loader = DataLoader(test_dataset, batch_size=8)"
      ],
      "metadata": {
        "id": "AgAE4fL9tKl5"
      },
      "execution_count": 89,
      "outputs": []
    },
    {
      "cell_type": "code",
      "source": [
        "test_dataset = TextDataset(X_test, y_test, tokenizer)  # Replace X_test, y_test with your test data and labels\n",
        "test_loader = DataLoader(test_dataset, batch_size=8)\n"
      ],
      "metadata": {
        "id": "FHvKoCvtwS7w"
      },
      "execution_count": 90,
      "outputs": []
    },
    {
      "cell_type": "code",
      "source": [
        "# Collect all predictions and true labels\n",
        "all_predictions = []\n",
        "all_labels = []\n",
        "\n",
        "with torch.no_grad():\n",
        "    for batch in test_loader:\n",
        "        inputs, labels = batch\n",
        "        inputs = {k: v.to(device) for k, v in inputs.items()}\n",
        "        labels = labels.to(device)\n",
        "\n",
        "        outputs = model(**inputs).squeeze(-1)\n",
        "        all_predictions.extend(outputs.cpu().numpy())\n",
        "        all_labels.extend(labels.cpu().numpy())\n",
        "\n",
        "# Calculate MSE\n",
        "regression_metrics(all_labels, all_predictions, \"BERT for Regression\")\n",
        "\n",
        "print(f\"Mean Squared Error on Test Set: {mse}\")"
      ],
      "metadata": {
        "colab": {
          "base_uri": "https://localhost:8080/"
        },
        "id": "3p7dlhCVw6Iz",
        "outputId": "d8942245-7978-4d23-cb32-6b53b847b5c5"
      },
      "execution_count": 92,
      "outputs": [
        {
          "output_type": "stream",
          "name": "stdout",
          "text": [
            "Results for BERT for Regression:\n",
            "Mean Absolute Error (MAE): 5.2955\n",
            "Mean Squared Error (MSE): 67.4701\n",
            "Root Mean Squared Error (RMSE): 8.2140\n",
            "R^2 Score: -0.0010\n",
            "Mean Squared Error on Test Set: 67.47013854980469\n"
          ]
        }
      ]
    },
    {
      "cell_type": "code",
      "source": [],
      "metadata": {
        "id": "wR9g9H71w7UN"
      },
      "execution_count": 91,
      "outputs": []
    }
  ],
  "metadata": {
    "colab": {
      "provenance": []
    },
    "kernelspec": {
      "display_name": "Python 3",
      "name": "python3"
    },
    "language_info": {
      "name": "python"
    }
  },
  "nbformat": 4,
  "nbformat_minor": 0
}